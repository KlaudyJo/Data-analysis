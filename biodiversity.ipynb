{
 "cells": [
  {
   "cell_type": "markdown",
   "metadata": {
    "id": "Bzt06rtrvXFC"
   },
   "source": [
    "# Imports "
   ]
  },
  {
   "cell_type": "code",
   "execution_count": 5,
   "metadata": {
    "id": "uf1cCi9SvXFN"
   },
   "outputs": [],
   "source": [
    "import pandas as pd \n",
    "import matplotlib.pyplot as plt\n",
    "import numpy as np\n",
    "import seaborn as sns"
   ]
  },
  {
   "cell_type": "code",
   "execution_count": 6,
   "metadata": {
    "id": "UJKcUXkuvXFQ"
   },
   "outputs": [],
   "source": [
    "pd.set_option('display.max_rows', None)\n",
    "pd.set_option('display.max_columns', None)\n",
    "pd.set_option('display.width', None)\n",
    "pd.set_option('display.max_colwidth', None)"
   ]
  },
  {
   "cell_type": "markdown",
   "metadata": {},
   "source": []
  },
  {
   "cell_type": "code",
   "execution_count": 253,
   "metadata": {
    "id": "3ykUbHNDvXFR"
   },
   "outputs": [],
   "source": [
    "plt.rcParams['lines.linewidth'] = 2\n",
    "plt.rcParams['font.size'] = 14\n",
    "sns.set(rc={ 'axes.facecolor':'white', 'figure.facecolor':'white' ,'legend.frameon': False})"
   ]
  },
  {
   "cell_type": "code",
   "execution_count": 254,
   "metadata": {
    "id": "iDq7KkrKvXFS"
   },
   "outputs": [],
   "source": [
    "obs = pd.read_csv('observations.csv')\n",
    "spec = pd.read_csv('species_info.csv')"
   ]
  },
  {
   "cell_type": "markdown",
   "metadata": {
    "id": "rGRBUTdKvXFT"
   },
   "source": [
    "# Import data"
   ]
  },
  {
   "cell_type": "code",
   "execution_count": 255,
   "metadata": {
    "colab": {
     "base_uri": "https://localhost:8080/"
    },
    "id": "PfFG9hAlvXFT",
    "outputId": "d4469f2b-2276-40be-f535-9d1dd45bebe8"
   },
   "outputs": [
    {
     "name": "stdout",
     "output_type": "stream",
     "text": [
      "            scientific_name                            park_name  observations\n",
      "0        Vicia benghalensis  Great Smoky Mountains National Park            68\n",
      "1            Neovison vison  Great Smoky Mountains National Park            77\n",
      "2         Prunus subcordata               Yosemite National Park           138\n",
      "3      Abutilon theophrasti                  Bryce National Park            84\n",
      "4  Githopsis specularioides  Great Smoky Mountains National Park            85\n",
      "  category                scientific_name  \\\n",
      "0   Mammal  Clethrionomys gapperi gapperi   \n",
      "1   Mammal                      Bos bison   \n",
      "2   Mammal                     Bos taurus   \n",
      "3   Mammal                     Ovis aries   \n",
      "4   Mammal                 Cervus elaphus   \n",
      "\n",
      "                                                     common_names  \\\n",
      "0                                        Gapper's Red-Backed Vole   \n",
      "1                                           American Bison, Bison   \n",
      "2  Aurochs, Aurochs, Domestic Cattle (Feral), Domesticated Cattle   \n",
      "3               Domestic Sheep, Mouflon, Red Sheep, Sheep (Feral)   \n",
      "4                                                   Wapiti Or Elk   \n",
      "\n",
      "  conservation_status  \n",
      "0                 NaN  \n",
      "1                 NaN  \n",
      "2                 NaN  \n",
      "3                 NaN  \n",
      "4                 NaN  \n"
     ]
    }
   ],
   "source": [
    "print(obs.head())\n",
    "print(spec.head())"
   ]
  },
  {
   "cell_type": "markdown",
   "metadata": {
    "id": "Nm-RMqGevXFX"
   },
   "source": [
    "Observations.csv => obs dataframe:\n",
    "<ul>\n",
    "<li>scientific_name - scientific name of species, nominal variables</li>\n",
    "<li>Park_name = location of park, nominal variables</li>\n",
    "<li>observations - quantity of the species, numeric variables </li>\n",
    "</ul>\n",
    "\n",
    "species_info.csv => spec dataframe:\n",
    "<ul>\n",
    "<li>category - category for the species, categorical variables</li>\n",
    "<li>scientific_name - scientific name of species, nominal variables</li>\n",
    "<li>common_name - general name for species</li>\n",
    "<li>conservation_status - threatened or endangered</li>\n",
    "</ul>"
   ]
  },
  {
   "cell_type": "code",
   "execution_count": 256,
   "metadata": {
    "colab": {
     "base_uri": "https://localhost:8080/"
    },
    "id": "IzGpNvKDvXFa",
    "outputId": "8e279bc1-de06-43d9-c24f-4064f26f9725"
   },
   "outputs": [
    {
     "name": "stdout",
     "output_type": "stream",
     "text": [
      "scientific_name    0\n",
      "park_name          0\n",
      "observations       0\n",
      "dtype: int64\n"
     ]
    }
   ],
   "source": [
    "print(obs.isnull().sum())"
   ]
  },
  {
   "cell_type": "code",
   "execution_count": 257,
   "metadata": {
    "colab": {
     "base_uri": "https://localhost:8080/"
    },
    "id": "gNxHREBOvXFZ",
    "outputId": "b62c9794-a09d-46b2-d843-509efbc6fe99"
   },
   "outputs": [
    {
     "name": "stdout",
     "output_type": "stream",
     "text": [
      "scientific_name    0\n",
      "park_name          0\n",
      "observations       0\n",
      "dtype: int64\n"
     ]
    }
   ],
   "source": [
    "print(obs.isnull().sum())"
   ]
  },
  {
   "cell_type": "code",
   "execution_count": 258,
   "metadata": {
    "colab": {
     "base_uri": "https://localhost:8080/"
    },
    "id": "0xauMTjbvXFb",
    "outputId": "bdb10b77-4132-4298-cc46-f86b8b94b06f"
   },
   "outputs": [
    {
     "name": "stdout",
     "output_type": "stream",
     "text": [
      "(23296, 3)\n",
      "(5824, 4)\n"
     ]
    }
   ],
   "source": [
    "print(obs.shape)\n",
    "print(spec.shape)"
   ]
  },
  {
   "cell_type": "code",
   "execution_count": 259,
   "metadata": {
    "colab": {
     "base_uri": "https://localhost:8080/",
     "height": 990
    },
    "id": "g0GC_xl4vXFc",
    "outputId": "22de01ec-394e-4c13-ab13-90a5b24065ca"
   },
   "outputs": [
    {
     "data": {
      "text/html": [
       "<div>\n",
       "<style scoped>\n",
       "    .dataframe tbody tr th:only-of-type {\n",
       "        vertical-align: middle;\n",
       "    }\n",
       "\n",
       "    .dataframe tbody tr th {\n",
       "        vertical-align: top;\n",
       "    }\n",
       "\n",
       "    .dataframe thead th {\n",
       "        text-align: right;\n",
       "    }\n",
       "</style>\n",
       "<table border=\"1\" class=\"dataframe\">\n",
       "  <thead>\n",
       "    <tr style=\"text-align: right;\">\n",
       "      <th></th>\n",
       "      <th>scientific_name</th>\n",
       "      <th>park_name</th>\n",
       "      <th>observations</th>\n",
       "    </tr>\n",
       "  </thead>\n",
       "  <tbody>\n",
       "    <tr>\n",
       "      <th>365</th>\n",
       "      <td>Plantago major</td>\n",
       "      <td>Great Smoky Mountains National Park</td>\n",
       "      <td>90</td>\n",
       "    </tr>\n",
       "    <tr>\n",
       "      <th>513</th>\n",
       "      <td>Arctium minus</td>\n",
       "      <td>Yosemite National Park</td>\n",
       "      <td>162</td>\n",
       "    </tr>\n",
       "    <tr>\n",
       "      <th>627</th>\n",
       "      <td>Spilogale putorius</td>\n",
       "      <td>Yellowstone National Park</td>\n",
       "      <td>256</td>\n",
       "    </tr>\n",
       "    <tr>\n",
       "      <th>1020</th>\n",
       "      <td>Eleocharis palustris</td>\n",
       "      <td>Great Smoky Mountains National Park</td>\n",
       "      <td>62</td>\n",
       "    </tr>\n",
       "    <tr>\n",
       "      <th>1032</th>\n",
       "      <td>Hesperis matronalis</td>\n",
       "      <td>Bryce National Park</td>\n",
       "      <td>124</td>\n",
       "    </tr>\n",
       "    <tr>\n",
       "      <th>1454</th>\n",
       "      <td>Echinochloa crus-galli</td>\n",
       "      <td>Great Smoky Mountains National Park</td>\n",
       "      <td>62</td>\n",
       "    </tr>\n",
       "    <tr>\n",
       "      <th>1635</th>\n",
       "      <td>Streptopelia decaocto</td>\n",
       "      <td>Yellowstone National Park</td>\n",
       "      <td>255</td>\n",
       "    </tr>\n",
       "    <tr>\n",
       "      <th>4178</th>\n",
       "      <td>Monotropa hypopithys</td>\n",
       "      <td>Great Smoky Mountains National Park</td>\n",
       "      <td>73</td>\n",
       "    </tr>\n",
       "    <tr>\n",
       "      <th>4527</th>\n",
       "      <td>Botrychium virginianum</td>\n",
       "      <td>Yellowstone National Park</td>\n",
       "      <td>232</td>\n",
       "    </tr>\n",
       "    <tr>\n",
       "      <th>7219</th>\n",
       "      <td>Prunella vulgaris</td>\n",
       "      <td>Great Smoky Mountains National Park</td>\n",
       "      <td>75</td>\n",
       "    </tr>\n",
       "    <tr>\n",
       "      <th>7263</th>\n",
       "      <td>Echinochloa crus-galli</td>\n",
       "      <td>Great Smoky Mountains National Park</td>\n",
       "      <td>62</td>\n",
       "    </tr>\n",
       "    <tr>\n",
       "      <th>8710</th>\n",
       "      <td>Streptopelia decaocto</td>\n",
       "      <td>Yellowstone National Park</td>\n",
       "      <td>255</td>\n",
       "    </tr>\n",
       "    <tr>\n",
       "      <th>10038</th>\n",
       "      <td>Plantago major</td>\n",
       "      <td>Great Smoky Mountains National Park</td>\n",
       "      <td>90</td>\n",
       "    </tr>\n",
       "    <tr>\n",
       "      <th>10674</th>\n",
       "      <td>Arctium minus</td>\n",
       "      <td>Yosemite National Park</td>\n",
       "      <td>162</td>\n",
       "    </tr>\n",
       "    <tr>\n",
       "      <th>10809</th>\n",
       "      <td>Potentilla norvegica</td>\n",
       "      <td>Yosemite National Park</td>\n",
       "      <td>148</td>\n",
       "    </tr>\n",
       "    <tr>\n",
       "      <th>12381</th>\n",
       "      <td>Eleocharis palustris</td>\n",
       "      <td>Great Smoky Mountains National Park</td>\n",
       "      <td>62</td>\n",
       "    </tr>\n",
       "    <tr>\n",
       "      <th>13097</th>\n",
       "      <td>Poa compressa</td>\n",
       "      <td>Great Smoky Mountains National Park</td>\n",
       "      <td>80</td>\n",
       "    </tr>\n",
       "    <tr>\n",
       "      <th>13372</th>\n",
       "      <td>Hesperis matronalis</td>\n",
       "      <td>Bryce National Park</td>\n",
       "      <td>124</td>\n",
       "    </tr>\n",
       "    <tr>\n",
       "      <th>14142</th>\n",
       "      <td>Cichorium intybus</td>\n",
       "      <td>Yellowstone National Park</td>\n",
       "      <td>266</td>\n",
       "    </tr>\n",
       "    <tr>\n",
       "      <th>16741</th>\n",
       "      <td>Prunella vulgaris</td>\n",
       "      <td>Great Smoky Mountains National Park</td>\n",
       "      <td>75</td>\n",
       "    </tr>\n",
       "    <tr>\n",
       "      <th>17378</th>\n",
       "      <td>Potentilla norvegica</td>\n",
       "      <td>Yosemite National Park</td>\n",
       "      <td>148</td>\n",
       "    </tr>\n",
       "    <tr>\n",
       "      <th>17577</th>\n",
       "      <td>Spilogale putorius</td>\n",
       "      <td>Yellowstone National Park</td>\n",
       "      <td>256</td>\n",
       "    </tr>\n",
       "    <tr>\n",
       "      <th>18141</th>\n",
       "      <td>Poa compressa</td>\n",
       "      <td>Great Smoky Mountains National Park</td>\n",
       "      <td>80</td>\n",
       "    </tr>\n",
       "    <tr>\n",
       "      <th>18435</th>\n",
       "      <td>Trifolium campestre</td>\n",
       "      <td>Yellowstone National Park</td>\n",
       "      <td>239</td>\n",
       "    </tr>\n",
       "    <tr>\n",
       "      <th>19392</th>\n",
       "      <td>Cichorium intybus</td>\n",
       "      <td>Yellowstone National Park</td>\n",
       "      <td>266</td>\n",
       "    </tr>\n",
       "    <tr>\n",
       "      <th>19575</th>\n",
       "      <td>Salix exigua</td>\n",
       "      <td>Yosemite National Park</td>\n",
       "      <td>186</td>\n",
       "    </tr>\n",
       "    <tr>\n",
       "      <th>20294</th>\n",
       "      <td>Botrychium virginianum</td>\n",
       "      <td>Yellowstone National Park</td>\n",
       "      <td>232</td>\n",
       "    </tr>\n",
       "    <tr>\n",
       "      <th>20820</th>\n",
       "      <td>Monotropa hypopithys</td>\n",
       "      <td>Great Smoky Mountains National Park</td>\n",
       "      <td>73</td>\n",
       "    </tr>\n",
       "    <tr>\n",
       "      <th>21151</th>\n",
       "      <td>Trifolium campestre</td>\n",
       "      <td>Yellowstone National Park</td>\n",
       "      <td>239</td>\n",
       "    </tr>\n",
       "    <tr>\n",
       "      <th>22698</th>\n",
       "      <td>Salix exigua</td>\n",
       "      <td>Yosemite National Park</td>\n",
       "      <td>186</td>\n",
       "    </tr>\n",
       "  </tbody>\n",
       "</table>\n",
       "</div>"
      ],
      "text/plain": [
       "              scientific_name                            park_name  \\\n",
       "365            Plantago major  Great Smoky Mountains National Park   \n",
       "513             Arctium minus               Yosemite National Park   \n",
       "627        Spilogale putorius            Yellowstone National Park   \n",
       "1020     Eleocharis palustris  Great Smoky Mountains National Park   \n",
       "1032      Hesperis matronalis                  Bryce National Park   \n",
       "1454   Echinochloa crus-galli  Great Smoky Mountains National Park   \n",
       "1635    Streptopelia decaocto            Yellowstone National Park   \n",
       "4178     Monotropa hypopithys  Great Smoky Mountains National Park   \n",
       "4527   Botrychium virginianum            Yellowstone National Park   \n",
       "7219        Prunella vulgaris  Great Smoky Mountains National Park   \n",
       "7263   Echinochloa crus-galli  Great Smoky Mountains National Park   \n",
       "8710    Streptopelia decaocto            Yellowstone National Park   \n",
       "10038          Plantago major  Great Smoky Mountains National Park   \n",
       "10674           Arctium minus               Yosemite National Park   \n",
       "10809    Potentilla norvegica               Yosemite National Park   \n",
       "12381    Eleocharis palustris  Great Smoky Mountains National Park   \n",
       "13097           Poa compressa  Great Smoky Mountains National Park   \n",
       "13372     Hesperis matronalis                  Bryce National Park   \n",
       "14142       Cichorium intybus            Yellowstone National Park   \n",
       "16741       Prunella vulgaris  Great Smoky Mountains National Park   \n",
       "17378    Potentilla norvegica               Yosemite National Park   \n",
       "17577      Spilogale putorius            Yellowstone National Park   \n",
       "18141           Poa compressa  Great Smoky Mountains National Park   \n",
       "18435     Trifolium campestre            Yellowstone National Park   \n",
       "19392       Cichorium intybus            Yellowstone National Park   \n",
       "19575            Salix exigua               Yosemite National Park   \n",
       "20294  Botrychium virginianum            Yellowstone National Park   \n",
       "20820    Monotropa hypopithys  Great Smoky Mountains National Park   \n",
       "21151     Trifolium campestre            Yellowstone National Park   \n",
       "22698            Salix exigua               Yosemite National Park   \n",
       "\n",
       "       observations  \n",
       "365              90  \n",
       "513             162  \n",
       "627             256  \n",
       "1020             62  \n",
       "1032            124  \n",
       "1454             62  \n",
       "1635            255  \n",
       "4178             73  \n",
       "4527            232  \n",
       "7219             75  \n",
       "7263             62  \n",
       "8710            255  \n",
       "10038            90  \n",
       "10674           162  \n",
       "10809           148  \n",
       "12381            62  \n",
       "13097            80  \n",
       "13372           124  \n",
       "14142           266  \n",
       "16741            75  \n",
       "17378           148  \n",
       "17577           256  \n",
       "18141            80  \n",
       "18435           239  \n",
       "19392           266  \n",
       "19575           186  \n",
       "20294           232  \n",
       "20820            73  \n",
       "21151           239  \n",
       "22698           186  "
      ]
     },
     "execution_count": 259,
     "metadata": {},
     "output_type": "execute_result"
    }
   ],
   "source": [
    "dup_obs = obs[obs.duplicated(keep=False)]\n",
    "dup_obs"
   ]
  },
  {
   "cell_type": "code",
   "execution_count": 260,
   "metadata": {
    "id": "P4rEj79AvXFd"
   },
   "outputs": [],
   "source": [
    "obs_clean = obs.groupby(['scientific_name', 'park_name']).mean().reset_index()"
   ]
  },
  {
   "cell_type": "code",
   "execution_count": 261,
   "metadata": {
    "colab": {
     "base_uri": "https://localhost:8080/",
     "height": 677
    },
    "id": "rpVukbNbvXFe",
    "outputId": "eba2282d-29f5-4e58-deb6-85eac4f1ece6"
   },
   "outputs": [
    {
     "data": {
      "text/html": [
       "<div>\n",
       "<style scoped>\n",
       "    .dataframe tbody tr th:only-of-type {\n",
       "        vertical-align: middle;\n",
       "    }\n",
       "\n",
       "    .dataframe tbody tr th {\n",
       "        vertical-align: top;\n",
       "    }\n",
       "\n",
       "    .dataframe thead th {\n",
       "        text-align: right;\n",
       "    }\n",
       "</style>\n",
       "<table border=\"1\" class=\"dataframe\">\n",
       "  <thead>\n",
       "    <tr style=\"text-align: right;\">\n",
       "      <th></th>\n",
       "      <th>scientific_name</th>\n",
       "      <th>park_name</th>\n",
       "      <th>observations</th>\n",
       "    </tr>\n",
       "  </thead>\n",
       "  <tbody>\n",
       "    <tr>\n",
       "      <th>22144</th>\n",
       "      <td>Zonotrichia leucophrys gambelii</td>\n",
       "      <td>Bryce National Park</td>\n",
       "      <td>58.0</td>\n",
       "    </tr>\n",
       "    <tr>\n",
       "      <th>22145</th>\n",
       "      <td>Zonotrichia leucophrys gambelii</td>\n",
       "      <td>Great Smoky Mountains National Park</td>\n",
       "      <td>87.0</td>\n",
       "    </tr>\n",
       "    <tr>\n",
       "      <th>22146</th>\n",
       "      <td>Zonotrichia leucophrys gambelii</td>\n",
       "      <td>Yellowstone National Park</td>\n",
       "      <td>246.0</td>\n",
       "    </tr>\n",
       "    <tr>\n",
       "      <th>22147</th>\n",
       "      <td>Zonotrichia leucophrys gambelii</td>\n",
       "      <td>Yosemite National Park</td>\n",
       "      <td>169.0</td>\n",
       "    </tr>\n",
       "    <tr>\n",
       "      <th>22148</th>\n",
       "      <td>Zonotrichia leucophrys oriantha</td>\n",
       "      <td>Bryce National Park</td>\n",
       "      <td>73.0</td>\n",
       "    </tr>\n",
       "    <tr>\n",
       "      <th>22149</th>\n",
       "      <td>Zonotrichia leucophrys oriantha</td>\n",
       "      <td>Great Smoky Mountains National Park</td>\n",
       "      <td>123.0</td>\n",
       "    </tr>\n",
       "    <tr>\n",
       "      <th>22150</th>\n",
       "      <td>Zonotrichia leucophrys oriantha</td>\n",
       "      <td>Yellowstone National Park</td>\n",
       "      <td>227.0</td>\n",
       "    </tr>\n",
       "    <tr>\n",
       "      <th>22151</th>\n",
       "      <td>Zonotrichia leucophrys oriantha</td>\n",
       "      <td>Yosemite National Park</td>\n",
       "      <td>135.0</td>\n",
       "    </tr>\n",
       "    <tr>\n",
       "      <th>22152</th>\n",
       "      <td>Zonotrichia querula</td>\n",
       "      <td>Bryce National Park</td>\n",
       "      <td>105.0</td>\n",
       "    </tr>\n",
       "    <tr>\n",
       "      <th>22153</th>\n",
       "      <td>Zonotrichia querula</td>\n",
       "      <td>Great Smoky Mountains National Park</td>\n",
       "      <td>83.0</td>\n",
       "    </tr>\n",
       "    <tr>\n",
       "      <th>22154</th>\n",
       "      <td>Zonotrichia querula</td>\n",
       "      <td>Yellowstone National Park</td>\n",
       "      <td>268.0</td>\n",
       "    </tr>\n",
       "    <tr>\n",
       "      <th>22155</th>\n",
       "      <td>Zonotrichia querula</td>\n",
       "      <td>Yosemite National Park</td>\n",
       "      <td>160.0</td>\n",
       "    </tr>\n",
       "    <tr>\n",
       "      <th>22156</th>\n",
       "      <td>Zygodon viridissimus</td>\n",
       "      <td>Bryce National Park</td>\n",
       "      <td>100.0</td>\n",
       "    </tr>\n",
       "    <tr>\n",
       "      <th>22157</th>\n",
       "      <td>Zygodon viridissimus</td>\n",
       "      <td>Great Smoky Mountains National Park</td>\n",
       "      <td>71.0</td>\n",
       "    </tr>\n",
       "    <tr>\n",
       "      <th>22158</th>\n",
       "      <td>Zygodon viridissimus</td>\n",
       "      <td>Yellowstone National Park</td>\n",
       "      <td>270.0</td>\n",
       "    </tr>\n",
       "    <tr>\n",
       "      <th>22159</th>\n",
       "      <td>Zygodon viridissimus</td>\n",
       "      <td>Yosemite National Park</td>\n",
       "      <td>159.0</td>\n",
       "    </tr>\n",
       "    <tr>\n",
       "      <th>22160</th>\n",
       "      <td>Zygodon viridissimus var. rupestris</td>\n",
       "      <td>Bryce National Park</td>\n",
       "      <td>102.0</td>\n",
       "    </tr>\n",
       "    <tr>\n",
       "      <th>22161</th>\n",
       "      <td>Zygodon viridissimus var. rupestris</td>\n",
       "      <td>Great Smoky Mountains National Park</td>\n",
       "      <td>102.0</td>\n",
       "    </tr>\n",
       "    <tr>\n",
       "      <th>22162</th>\n",
       "      <td>Zygodon viridissimus var. rupestris</td>\n",
       "      <td>Yellowstone National Park</td>\n",
       "      <td>237.0</td>\n",
       "    </tr>\n",
       "    <tr>\n",
       "      <th>22163</th>\n",
       "      <td>Zygodon viridissimus var. rupestris</td>\n",
       "      <td>Yosemite National Park</td>\n",
       "      <td>210.0</td>\n",
       "    </tr>\n",
       "  </tbody>\n",
       "</table>\n",
       "</div>"
      ],
      "text/plain": [
       "                           scientific_name  \\\n",
       "22144      Zonotrichia leucophrys gambelii   \n",
       "22145      Zonotrichia leucophrys gambelii   \n",
       "22146      Zonotrichia leucophrys gambelii   \n",
       "22147      Zonotrichia leucophrys gambelii   \n",
       "22148      Zonotrichia leucophrys oriantha   \n",
       "22149      Zonotrichia leucophrys oriantha   \n",
       "22150      Zonotrichia leucophrys oriantha   \n",
       "22151      Zonotrichia leucophrys oriantha   \n",
       "22152                  Zonotrichia querula   \n",
       "22153                  Zonotrichia querula   \n",
       "22154                  Zonotrichia querula   \n",
       "22155                  Zonotrichia querula   \n",
       "22156                 Zygodon viridissimus   \n",
       "22157                 Zygodon viridissimus   \n",
       "22158                 Zygodon viridissimus   \n",
       "22159                 Zygodon viridissimus   \n",
       "22160  Zygodon viridissimus var. rupestris   \n",
       "22161  Zygodon viridissimus var. rupestris   \n",
       "22162  Zygodon viridissimus var. rupestris   \n",
       "22163  Zygodon viridissimus var. rupestris   \n",
       "\n",
       "                                 park_name  observations  \n",
       "22144                  Bryce National Park          58.0  \n",
       "22145  Great Smoky Mountains National Park          87.0  \n",
       "22146            Yellowstone National Park         246.0  \n",
       "22147               Yosemite National Park         169.0  \n",
       "22148                  Bryce National Park          73.0  \n",
       "22149  Great Smoky Mountains National Park         123.0  \n",
       "22150            Yellowstone National Park         227.0  \n",
       "22151               Yosemite National Park         135.0  \n",
       "22152                  Bryce National Park         105.0  \n",
       "22153  Great Smoky Mountains National Park          83.0  \n",
       "22154            Yellowstone National Park         268.0  \n",
       "22155               Yosemite National Park         160.0  \n",
       "22156                  Bryce National Park         100.0  \n",
       "22157  Great Smoky Mountains National Park          71.0  \n",
       "22158            Yellowstone National Park         270.0  \n",
       "22159               Yosemite National Park         159.0  \n",
       "22160                  Bryce National Park         102.0  \n",
       "22161  Great Smoky Mountains National Park         102.0  \n",
       "22162            Yellowstone National Park         237.0  \n",
       "22163               Yosemite National Park         210.0  "
      ]
     },
     "execution_count": 261,
     "metadata": {},
     "output_type": "execute_result"
    }
   ],
   "source": [
    "obs_clean.tail(20)"
   ]
  },
  {
   "cell_type": "code",
   "execution_count": 262,
   "metadata": {
    "id": "jMbcylSOvXFe"
   },
   "outputs": [],
   "source": [
    "spec_clean = spec.drop_duplicates(subset = ['scientific_name', 'category'])"
   ]
  },
  {
   "cell_type": "code",
   "execution_count": 263,
   "metadata": {
    "colab": {
     "base_uri": "https://localhost:8080/",
     "height": 1000
    },
    "id": "cs4uXIhWvXFf",
    "outputId": "398248d5-1d49-4a9c-9341-3d326e0566c3"
   },
   "outputs": [
    {
     "data": {
      "text/html": [
       "<div>\n",
       "<style scoped>\n",
       "    .dataframe tbody tr th:only-of-type {\n",
       "        vertical-align: middle;\n",
       "    }\n",
       "\n",
       "    .dataframe tbody tr th {\n",
       "        vertical-align: top;\n",
       "    }\n",
       "\n",
       "    .dataframe thead th {\n",
       "        text-align: right;\n",
       "    }\n",
       "</style>\n",
       "<table border=\"1\" class=\"dataframe\">\n",
       "  <thead>\n",
       "    <tr style=\"text-align: right;\">\n",
       "      <th></th>\n",
       "      <th>category</th>\n",
       "      <th>scientific_name</th>\n",
       "      <th>common_names</th>\n",
       "      <th>conservation_status</th>\n",
       "    </tr>\n",
       "  </thead>\n",
       "  <tbody>\n",
       "    <tr>\n",
       "      <th>5804</th>\n",
       "      <td>Vascular Plant</td>\n",
       "      <td>Saxifraga californica</td>\n",
       "      <td>California Saxifrage</td>\n",
       "      <td>NaN</td>\n",
       "    </tr>\n",
       "    <tr>\n",
       "      <th>5805</th>\n",
       "      <td>Vascular Plant</td>\n",
       "      <td>Saxifraga mertensiana</td>\n",
       "      <td>Merten's Saxifrage, Wood Saxifrage, Woodland Saxifrage</td>\n",
       "      <td>NaN</td>\n",
       "    </tr>\n",
       "    <tr>\n",
       "      <th>5806</th>\n",
       "      <td>Vascular Plant</td>\n",
       "      <td>Saxifraga nidifica var. nidifica</td>\n",
       "      <td>Peak Saxifrage</td>\n",
       "      <td>NaN</td>\n",
       "    </tr>\n",
       "    <tr>\n",
       "      <th>5807</th>\n",
       "      <td>Vascular Plant</td>\n",
       "      <td>Saxifraga oregana</td>\n",
       "      <td>Box Saxifrage, Oregon Saxifrage</td>\n",
       "      <td>NaN</td>\n",
       "    </tr>\n",
       "    <tr>\n",
       "      <th>5808</th>\n",
       "      <td>Vascular Plant</td>\n",
       "      <td>Saxifraga tolmiei</td>\n",
       "      <td>Alpine Saxifrage, Tolmie's Saxifrage</td>\n",
       "      <td>NaN</td>\n",
       "    </tr>\n",
       "    <tr>\n",
       "      <th>5809</th>\n",
       "      <td>Vascular Plant</td>\n",
       "      <td>Selaginella hansenii</td>\n",
       "      <td>Hansen's Spikemoss</td>\n",
       "      <td>NaN</td>\n",
       "    </tr>\n",
       "    <tr>\n",
       "      <th>5810</th>\n",
       "      <td>Vascular Plant</td>\n",
       "      <td>Selaginella watsonii</td>\n",
       "      <td>Alpine Spikemoss, Watson's Spikemoss</td>\n",
       "      <td>NaN</td>\n",
       "    </tr>\n",
       "    <tr>\n",
       "      <th>5811</th>\n",
       "      <td>Vascular Plant</td>\n",
       "      <td>Calystegia malacophylla ssp. malacophylla</td>\n",
       "      <td>Sierra False Bindweed</td>\n",
       "      <td>NaN</td>\n",
       "    </tr>\n",
       "    <tr>\n",
       "      <th>5812</th>\n",
       "      <td>Vascular Plant</td>\n",
       "      <td>Cuscuta californica var. breviflora</td>\n",
       "      <td>California Dodder, Chaparral Dodder, Western Dodder</td>\n",
       "      <td>NaN</td>\n",
       "    </tr>\n",
       "    <tr>\n",
       "      <th>5813</th>\n",
       "      <td>Vascular Plant</td>\n",
       "      <td>Cuscuta californica var. californica</td>\n",
       "      <td>California Dodder, Chaparral Dodder</td>\n",
       "      <td>NaN</td>\n",
       "    </tr>\n",
       "    <tr>\n",
       "      <th>5814</th>\n",
       "      <td>Vascular Plant</td>\n",
       "      <td>Cuscuta suksdorfii</td>\n",
       "      <td>Mountain Dodder</td>\n",
       "      <td>NaN</td>\n",
       "    </tr>\n",
       "    <tr>\n",
       "      <th>5815</th>\n",
       "      <td>Vascular Plant</td>\n",
       "      <td>Datura wrightii</td>\n",
       "      <td>Sacred Datura, Sacred Thornapple, Sacred Thorn-Apple</td>\n",
       "      <td>NaN</td>\n",
       "    </tr>\n",
       "    <tr>\n",
       "      <th>5816</th>\n",
       "      <td>Vascular Plant</td>\n",
       "      <td>Nicotiana acuminata var. multiflora</td>\n",
       "      <td>Manyflower Tobacco</td>\n",
       "      <td>NaN</td>\n",
       "    </tr>\n",
       "    <tr>\n",
       "      <th>5817</th>\n",
       "      <td>Vascular Plant</td>\n",
       "      <td>Nicotiana attenuata</td>\n",
       "      <td>Coyote Tabacco, Coyote Tobacco</td>\n",
       "      <td>NaN</td>\n",
       "    </tr>\n",
       "    <tr>\n",
       "      <th>5818</th>\n",
       "      <td>Vascular Plant</td>\n",
       "      <td>Solanum americanum</td>\n",
       "      <td>American Black Nightshade, Common Purple Nightshade, Smallflower Nightshade</td>\n",
       "      <td>NaN</td>\n",
       "    </tr>\n",
       "    <tr>\n",
       "      <th>5819</th>\n",
       "      <td>Vascular Plant</td>\n",
       "      <td>Solanum parishii</td>\n",
       "      <td>Parish's Nightshade</td>\n",
       "      <td>NaN</td>\n",
       "    </tr>\n",
       "    <tr>\n",
       "      <th>5820</th>\n",
       "      <td>Vascular Plant</td>\n",
       "      <td>Solanum xanti</td>\n",
       "      <td>Chaparral Nightshade, Purple Nightshade</td>\n",
       "      <td>NaN</td>\n",
       "    </tr>\n",
       "    <tr>\n",
       "      <th>5821</th>\n",
       "      <td>Vascular Plant</td>\n",
       "      <td>Parthenocissus vitacea</td>\n",
       "      <td>Thicket Creeper, Virginia Creeper, Woodbine</td>\n",
       "      <td>NaN</td>\n",
       "    </tr>\n",
       "    <tr>\n",
       "      <th>5822</th>\n",
       "      <td>Vascular Plant</td>\n",
       "      <td>Vitis californica</td>\n",
       "      <td>California Grape, California Wild Grape</td>\n",
       "      <td>NaN</td>\n",
       "    </tr>\n",
       "    <tr>\n",
       "      <th>5823</th>\n",
       "      <td>Vascular Plant</td>\n",
       "      <td>Tribulus terrestris</td>\n",
       "      <td>Bullhead, Caltrop, Goathead, Mexican Sandbur, Puncture Vine, Texas Sandbur</td>\n",
       "      <td>NaN</td>\n",
       "    </tr>\n",
       "  </tbody>\n",
       "</table>\n",
       "</div>"
      ],
      "text/plain": [
       "            category                            scientific_name  \\\n",
       "5804  Vascular Plant                      Saxifraga californica   \n",
       "5805  Vascular Plant                      Saxifraga mertensiana   \n",
       "5806  Vascular Plant           Saxifraga nidifica var. nidifica   \n",
       "5807  Vascular Plant                          Saxifraga oregana   \n",
       "5808  Vascular Plant                          Saxifraga tolmiei   \n",
       "5809  Vascular Plant                       Selaginella hansenii   \n",
       "5810  Vascular Plant                       Selaginella watsonii   \n",
       "5811  Vascular Plant  Calystegia malacophylla ssp. malacophylla   \n",
       "5812  Vascular Plant        Cuscuta californica var. breviflora   \n",
       "5813  Vascular Plant       Cuscuta californica var. californica   \n",
       "5814  Vascular Plant                         Cuscuta suksdorfii   \n",
       "5815  Vascular Plant                            Datura wrightii   \n",
       "5816  Vascular Plant        Nicotiana acuminata var. multiflora   \n",
       "5817  Vascular Plant                        Nicotiana attenuata   \n",
       "5818  Vascular Plant                         Solanum americanum   \n",
       "5819  Vascular Plant                           Solanum parishii   \n",
       "5820  Vascular Plant                              Solanum xanti   \n",
       "5821  Vascular Plant                     Parthenocissus vitacea   \n",
       "5822  Vascular Plant                          Vitis californica   \n",
       "5823  Vascular Plant                        Tribulus terrestris   \n",
       "\n",
       "                                                                     common_names  \\\n",
       "5804                                                         California Saxifrage   \n",
       "5805                       Merten's Saxifrage, Wood Saxifrage, Woodland Saxifrage   \n",
       "5806                                                               Peak Saxifrage   \n",
       "5807                                              Box Saxifrage, Oregon Saxifrage   \n",
       "5808                                         Alpine Saxifrage, Tolmie's Saxifrage   \n",
       "5809                                                           Hansen's Spikemoss   \n",
       "5810                                         Alpine Spikemoss, Watson's Spikemoss   \n",
       "5811                                                        Sierra False Bindweed   \n",
       "5812                          California Dodder, Chaparral Dodder, Western Dodder   \n",
       "5813                                          California Dodder, Chaparral Dodder   \n",
       "5814                                                              Mountain Dodder   \n",
       "5815                         Sacred Datura, Sacred Thornapple, Sacred Thorn-Apple   \n",
       "5816                                                           Manyflower Tobacco   \n",
       "5817                                               Coyote Tabacco, Coyote Tobacco   \n",
       "5818  American Black Nightshade, Common Purple Nightshade, Smallflower Nightshade   \n",
       "5819                                                          Parish's Nightshade   \n",
       "5820                                      Chaparral Nightshade, Purple Nightshade   \n",
       "5821                                  Thicket Creeper, Virginia Creeper, Woodbine   \n",
       "5822                                      California Grape, California Wild Grape   \n",
       "5823   Bullhead, Caltrop, Goathead, Mexican Sandbur, Puncture Vine, Texas Sandbur   \n",
       "\n",
       "     conservation_status  \n",
       "5804                 NaN  \n",
       "5805                 NaN  \n",
       "5806                 NaN  \n",
       "5807                 NaN  \n",
       "5808                 NaN  \n",
       "5809                 NaN  \n",
       "5810                 NaN  \n",
       "5811                 NaN  \n",
       "5812                 NaN  \n",
       "5813                 NaN  \n",
       "5814                 NaN  \n",
       "5815                 NaN  \n",
       "5816                 NaN  \n",
       "5817                 NaN  \n",
       "5818                 NaN  \n",
       "5819                 NaN  \n",
       "5820                 NaN  \n",
       "5821                 NaN  \n",
       "5822                 NaN  \n",
       "5823                 NaN  "
      ]
     },
     "execution_count": 263,
     "metadata": {},
     "output_type": "execute_result"
    }
   ],
   "source": [
    "spec_clean.tail(20)"
   ]
  },
  {
   "cell_type": "code",
   "execution_count": 264,
   "metadata": {
    "colab": {
     "base_uri": "https://localhost:8080/"
    },
    "id": "QR4lys9kvXFf",
    "outputId": "64e16cd4-b89a-4f60-ba0b-d92bf1d74ca7"
   },
   "outputs": [
    {
     "name": "stdout",
     "output_type": "stream",
     "text": [
      "(22164, 3)\n",
      "(5541, 4)\n"
     ]
    }
   ],
   "source": [
    "print(obs_clean.shape)\n",
    "print(spec_clean.shape)"
   ]
  },
  {
   "cell_type": "code",
   "execution_count": 265,
   "metadata": {
    "colab": {
     "base_uri": "https://localhost:8080/"
    },
    "id": "kaJdeApLvXFg",
    "outputId": "1a88a6a5-003b-4690-d887-6cab38db4b37"
   },
   "outputs": [
    {
     "name": "stdout",
     "output_type": "stream",
     "text": [
      "Index(['scientific_name', 'park_name', 'observations'], dtype='object')\n"
     ]
    }
   ],
   "source": [
    "print(obs_clean.columns)"
   ]
  },
  {
   "cell_type": "code",
   "execution_count": 266,
   "metadata": {
    "colab": {
     "base_uri": "https://localhost:8080/"
    },
    "id": "kXGHGv8FvXFh",
    "outputId": "52029ee8-4c06-4976-c807-9fb68afe253b"
   },
   "outputs": [
    {
     "name": "stdout",
     "output_type": "stream",
     "text": [
      "(22164, 6)\n"
     ]
    }
   ],
   "source": [
    "df = obs_clean.merge(spec_clean, how='left')\n",
    "print(df.shape)"
   ]
  },
  {
   "cell_type": "code",
   "execution_count": 267,
   "metadata": {
    "colab": {
     "base_uri": "https://localhost:8080/",
     "height": 354
    },
    "id": "FBaPvRbUvXFi",
    "outputId": "5b0a4ab3-e853-44d9-b317-255c31ef8c41"
   },
   "outputs": [
    {
     "data": {
      "text/html": [
       "<div>\n",
       "<style scoped>\n",
       "    .dataframe tbody tr th:only-of-type {\n",
       "        vertical-align: middle;\n",
       "    }\n",
       "\n",
       "    .dataframe tbody tr th {\n",
       "        vertical-align: top;\n",
       "    }\n",
       "\n",
       "    .dataframe thead th {\n",
       "        text-align: right;\n",
       "    }\n",
       "</style>\n",
       "<table border=\"1\" class=\"dataframe\">\n",
       "  <thead>\n",
       "    <tr style=\"text-align: right;\">\n",
       "      <th></th>\n",
       "      <th>scientific_name</th>\n",
       "      <th>park_name</th>\n",
       "      <th>observations</th>\n",
       "      <th>category</th>\n",
       "      <th>common_names</th>\n",
       "      <th>conservation_status</th>\n",
       "    </tr>\n",
       "  </thead>\n",
       "  <tbody>\n",
       "    <tr>\n",
       "      <th>0</th>\n",
       "      <td>Abies bifolia</td>\n",
       "      <td>Bryce National Park</td>\n",
       "      <td>109.0</td>\n",
       "      <td>Vascular Plant</td>\n",
       "      <td>Rocky Mountain Alpine Fir</td>\n",
       "      <td>NaN</td>\n",
       "    </tr>\n",
       "    <tr>\n",
       "      <th>1</th>\n",
       "      <td>Abies bifolia</td>\n",
       "      <td>Great Smoky Mountains National Park</td>\n",
       "      <td>72.0</td>\n",
       "      <td>Vascular Plant</td>\n",
       "      <td>Rocky Mountain Alpine Fir</td>\n",
       "      <td>NaN</td>\n",
       "    </tr>\n",
       "    <tr>\n",
       "      <th>2</th>\n",
       "      <td>Abies bifolia</td>\n",
       "      <td>Yellowstone National Park</td>\n",
       "      <td>215.0</td>\n",
       "      <td>Vascular Plant</td>\n",
       "      <td>Rocky Mountain Alpine Fir</td>\n",
       "      <td>NaN</td>\n",
       "    </tr>\n",
       "    <tr>\n",
       "      <th>3</th>\n",
       "      <td>Abies bifolia</td>\n",
       "      <td>Yosemite National Park</td>\n",
       "      <td>136.0</td>\n",
       "      <td>Vascular Plant</td>\n",
       "      <td>Rocky Mountain Alpine Fir</td>\n",
       "      <td>NaN</td>\n",
       "    </tr>\n",
       "    <tr>\n",
       "      <th>4</th>\n",
       "      <td>Abies concolor</td>\n",
       "      <td>Bryce National Park</td>\n",
       "      <td>83.0</td>\n",
       "      <td>Vascular Plant</td>\n",
       "      <td>Balsam Fir, Colorado Fir, Concolor Fir, Silver Fir, White Balsam, White Fir</td>\n",
       "      <td>NaN</td>\n",
       "    </tr>\n",
       "  </tbody>\n",
       "</table>\n",
       "</div>"
      ],
      "text/plain": [
       "  scientific_name                            park_name  observations  \\\n",
       "0   Abies bifolia                  Bryce National Park         109.0   \n",
       "1   Abies bifolia  Great Smoky Mountains National Park          72.0   \n",
       "2   Abies bifolia            Yellowstone National Park         215.0   \n",
       "3   Abies bifolia               Yosemite National Park         136.0   \n",
       "4  Abies concolor                  Bryce National Park          83.0   \n",
       "\n",
       "         category  \\\n",
       "0  Vascular Plant   \n",
       "1  Vascular Plant   \n",
       "2  Vascular Plant   \n",
       "3  Vascular Plant   \n",
       "4  Vascular Plant   \n",
       "\n",
       "                                                                  common_names  \\\n",
       "0                                                    Rocky Mountain Alpine Fir   \n",
       "1                                                    Rocky Mountain Alpine Fir   \n",
       "2                                                    Rocky Mountain Alpine Fir   \n",
       "3                                                    Rocky Mountain Alpine Fir   \n",
       "4  Balsam Fir, Colorado Fir, Concolor Fir, Silver Fir, White Balsam, White Fir   \n",
       "\n",
       "  conservation_status  \n",
       "0                 NaN  \n",
       "1                 NaN  \n",
       "2                 NaN  \n",
       "3                 NaN  \n",
       "4                 NaN  "
      ]
     },
     "execution_count": 267,
     "metadata": {},
     "output_type": "execute_result"
    }
   ],
   "source": [
    "df.head()"
   ]
  },
  {
   "cell_type": "code",
   "execution_count": 268,
   "metadata": {
    "colab": {
     "base_uri": "https://localhost:8080/"
    },
    "id": "cgJQv1rKvXFj",
    "outputId": "0413b268-ebd3-4b66-d93b-f81cd8add7f3"
   },
   "outputs": [
    {
     "data": {
      "text/plain": [
       "scientific_name            0\n",
       "park_name                  0\n",
       "observations               0\n",
       "category                   0\n",
       "common_names               0\n",
       "conservation_status    21452\n",
       "dtype: int64"
      ]
     },
     "execution_count": 268,
     "metadata": {},
     "output_type": "execute_result"
    }
   ],
   "source": [
    "df.isnull().sum()"
   ]
  },
  {
   "cell_type": "code",
   "execution_count": 269,
   "metadata": {
    "colab": {
     "base_uri": "https://localhost:8080/"
    },
    "id": "nsfRgQsvvXFm",
    "outputId": "39eeac20-3387-4b35-bfe0-b41f2221bc60"
   },
   "outputs": [
    {
     "name": "stdout",
     "output_type": "stream",
     "text": [
      "<class 'pandas.core.frame.DataFrame'>\n",
      "Int64Index: 22164 entries, 0 to 22163\n",
      "Data columns (total 6 columns):\n",
      " #   Column               Non-Null Count  Dtype  \n",
      "---  ------               --------------  -----  \n",
      " 0   scientific_name      22164 non-null  object \n",
      " 1   park_name            22164 non-null  object \n",
      " 2   observations         22164 non-null  float64\n",
      " 3   category             22164 non-null  object \n",
      " 4   common_names         22164 non-null  object \n",
      " 5   conservation_status  712 non-null    object \n",
      "dtypes: float64(1), object(5)\n",
      "memory usage: 1.2+ MB\n"
     ]
    }
   ],
   "source": [
    "df.info()"
   ]
  },
  {
   "cell_type": "code",
   "execution_count": 270,
   "metadata": {
    "colab": {
     "base_uri": "https://localhost:8080/",
     "height": 300
    },
    "id": "K6rw4BEmvXFo",
    "outputId": "55e4e72d-eaa8-40d0-d05f-7c4778c3b8cb"
   },
   "outputs": [
    {
     "data": {
      "text/html": [
       "<div>\n",
       "<style scoped>\n",
       "    .dataframe tbody tr th:only-of-type {\n",
       "        vertical-align: middle;\n",
       "    }\n",
       "\n",
       "    .dataframe tbody tr th {\n",
       "        vertical-align: top;\n",
       "    }\n",
       "\n",
       "    .dataframe thead th {\n",
       "        text-align: right;\n",
       "    }\n",
       "</style>\n",
       "<table border=\"1\" class=\"dataframe\">\n",
       "  <thead>\n",
       "    <tr style=\"text-align: right;\">\n",
       "      <th></th>\n",
       "      <th>observations</th>\n",
       "    </tr>\n",
       "  </thead>\n",
       "  <tbody>\n",
       "    <tr>\n",
       "      <th>count</th>\n",
       "      <td>22164.000000</td>\n",
       "    </tr>\n",
       "    <tr>\n",
       "      <th>mean</th>\n",
       "      <td>142.314609</td>\n",
       "    </tr>\n",
       "    <tr>\n",
       "      <th>std</th>\n",
       "      <td>69.805688</td>\n",
       "    </tr>\n",
       "    <tr>\n",
       "      <th>min</th>\n",
       "      <td>9.000000</td>\n",
       "    </tr>\n",
       "    <tr>\n",
       "      <th>25%</th>\n",
       "      <td>86.000000</td>\n",
       "    </tr>\n",
       "    <tr>\n",
       "      <th>50%</th>\n",
       "      <td>124.000000</td>\n",
       "    </tr>\n",
       "    <tr>\n",
       "      <th>75%</th>\n",
       "      <td>195.000000</td>\n",
       "    </tr>\n",
       "    <tr>\n",
       "      <th>max</th>\n",
       "      <td>321.000000</td>\n",
       "    </tr>\n",
       "  </tbody>\n",
       "</table>\n",
       "</div>"
      ],
      "text/plain": [
       "       observations\n",
       "count  22164.000000\n",
       "mean     142.314609\n",
       "std       69.805688\n",
       "min        9.000000\n",
       "25%       86.000000\n",
       "50%      124.000000\n",
       "75%      195.000000\n",
       "max      321.000000"
      ]
     },
     "execution_count": 270,
     "metadata": {},
     "output_type": "execute_result"
    }
   ],
   "source": [
    "df.describe()"
   ]
  },
  {
   "cell_type": "code",
   "execution_count": 271,
   "metadata": {
    "colab": {
     "base_uri": "https://localhost:8080/",
     "height": 175
    },
    "id": "BZAlYXgUvXFq",
    "outputId": "86e03faa-386d-491c-f9d1-4e53c9e030f5"
   },
   "outputs": [
    {
     "data": {
      "text/html": [
       "<div>\n",
       "<style scoped>\n",
       "    .dataframe tbody tr th:only-of-type {\n",
       "        vertical-align: middle;\n",
       "    }\n",
       "\n",
       "    .dataframe tbody tr th {\n",
       "        vertical-align: top;\n",
       "    }\n",
       "\n",
       "    .dataframe thead th {\n",
       "        text-align: right;\n",
       "    }\n",
       "</style>\n",
       "<table border=\"1\" class=\"dataframe\">\n",
       "  <thead>\n",
       "    <tr style=\"text-align: right;\">\n",
       "      <th></th>\n",
       "      <th>scientific_name</th>\n",
       "      <th>park_name</th>\n",
       "      <th>category</th>\n",
       "      <th>common_names</th>\n",
       "      <th>conservation_status</th>\n",
       "    </tr>\n",
       "  </thead>\n",
       "  <tbody>\n",
       "    <tr>\n",
       "      <th>count</th>\n",
       "      <td>22164</td>\n",
       "      <td>22164</td>\n",
       "      <td>22164</td>\n",
       "      <td>22164</td>\n",
       "      <td>712</td>\n",
       "    </tr>\n",
       "    <tr>\n",
       "      <th>unique</th>\n",
       "      <td>5541</td>\n",
       "      <td>4</td>\n",
       "      <td>7</td>\n",
       "      <td>5229</td>\n",
       "      <td>4</td>\n",
       "    </tr>\n",
       "    <tr>\n",
       "      <th>top</th>\n",
       "      <td>Triteleia grandiflora var. grandiflora</td>\n",
       "      <td>Yellowstone National Park</td>\n",
       "      <td>Vascular Plant</td>\n",
       "      <td>Brachythecium Moss</td>\n",
       "      <td>Species of Concern</td>\n",
       "    </tr>\n",
       "    <tr>\n",
       "      <th>freq</th>\n",
       "      <td>4</td>\n",
       "      <td>5541</td>\n",
       "      <td>17048</td>\n",
       "      <td>28</td>\n",
       "      <td>604</td>\n",
       "    </tr>\n",
       "  </tbody>\n",
       "</table>\n",
       "</div>"
      ],
      "text/plain": [
       "                               scientific_name                  park_name  \\\n",
       "count                                    22164                      22164   \n",
       "unique                                    5541                          4   \n",
       "top     Triteleia grandiflora var. grandiflora  Yellowstone National Park   \n",
       "freq                                         4                       5541   \n",
       "\n",
       "              category        common_names conservation_status  \n",
       "count            22164               22164                 712  \n",
       "unique               7                5229                   4  \n",
       "top     Vascular Plant  Brachythecium Moss  Species of Concern  \n",
       "freq             17048                  28                 604  "
      ]
     },
     "execution_count": 271,
     "metadata": {},
     "output_type": "execute_result"
    }
   ],
   "source": [
    "df.select_dtypes(include='object').describe()"
   ]
  },
  {
   "cell_type": "code",
   "execution_count": 272,
   "metadata": {
    "colab": {
     "base_uri": "https://localhost:8080/"
    },
    "id": "Up63uUsfvXFq",
    "outputId": "ee294fbe-e476-48af-88b1-d95da8bbe0f9"
   },
   "outputs": [
    {
     "name": "stdout",
     "output_type": "stream",
     "text": [
      "['Vascular Plant' 'Nonvascular Plant' 'Bird' 'Amphibian' 'Reptile'\n",
      " 'Mammal' 'Fish']\n"
     ]
    }
   ],
   "source": [
    "print(df.category.unique())"
   ]
  },
  {
   "cell_type": "code",
   "execution_count": 273,
   "metadata": {
    "colab": {
     "base_uri": "https://localhost:8080/"
    },
    "id": "-hqxJYPmvXFr",
    "outputId": "73613a05-2228-4360-b6fa-8864b9b5827f"
   },
   "outputs": [
    {
     "name": "stdout",
     "output_type": "stream",
     "text": [
      "[nan 'Species of Concern' 'Threatened' 'Endangered' 'In Recovery']\n"
     ]
    }
   ],
   "source": [
    "print(df.conservation_status.unique())"
   ]
  },
  {
   "cell_type": "code",
   "execution_count": 213,
   "metadata": {
    "colab": {
     "base_uri": "https://localhost:8080/"
    },
    "id": "KGX6oH23vXFr",
    "outputId": "a20599d7-c070-41d8-efe0-507f6c89db70"
   },
   "outputs": [
    {
     "name": "stdout",
     "output_type": "stream",
     "text": [
      "['Bryce National Park' 'Great Smoky Mountains National Park'\n",
      " 'Yellowstone National Park' 'Yosemite National Park']\n"
     ]
    }
   ],
   "source": [
    "print(df.park_name.unique())"
   ]
  },
  {
   "cell_type": "code",
   "execution_count": 214,
   "metadata": {
    "colab": {
     "base_uri": "https://localhost:8080/",
     "height": 269
    },
    "id": "xtM6ug5svXFs",
    "outputId": "be724145-27a4-4958-e670-b360fedeede0"
   },
   "outputs": [
    {
     "data": {
      "text/html": [
       "<div>\n",
       "<style scoped>\n",
       "    .dataframe tbody tr th:only-of-type {\n",
       "        vertical-align: middle;\n",
       "    }\n",
       "\n",
       "    .dataframe tbody tr th {\n",
       "        vertical-align: top;\n",
       "    }\n",
       "\n",
       "    .dataframe thead th {\n",
       "        text-align: right;\n",
       "    }\n",
       "</style>\n",
       "<table border=\"1\" class=\"dataframe\">\n",
       "  <thead>\n",
       "    <tr style=\"text-align: right;\">\n",
       "      <th></th>\n",
       "      <th>category</th>\n",
       "      <th>species_count</th>\n",
       "    </tr>\n",
       "  </thead>\n",
       "  <tbody>\n",
       "    <tr>\n",
       "      <th>6</th>\n",
       "      <td>Vascular Plant</td>\n",
       "      <td>4262</td>\n",
       "    </tr>\n",
       "    <tr>\n",
       "      <th>1</th>\n",
       "      <td>Bird</td>\n",
       "      <td>488</td>\n",
       "    </tr>\n",
       "    <tr>\n",
       "      <th>4</th>\n",
       "      <td>Nonvascular Plant</td>\n",
       "      <td>333</td>\n",
       "    </tr>\n",
       "    <tr>\n",
       "      <th>3</th>\n",
       "      <td>Mammal</td>\n",
       "      <td>176</td>\n",
       "    </tr>\n",
       "    <tr>\n",
       "      <th>2</th>\n",
       "      <td>Fish</td>\n",
       "      <td>125</td>\n",
       "    </tr>\n",
       "    <tr>\n",
       "      <th>0</th>\n",
       "      <td>Amphibian</td>\n",
       "      <td>79</td>\n",
       "    </tr>\n",
       "    <tr>\n",
       "      <th>5</th>\n",
       "      <td>Reptile</td>\n",
       "      <td>78</td>\n",
       "    </tr>\n",
       "  </tbody>\n",
       "</table>\n",
       "</div>"
      ],
      "text/plain": [
       "            category  species_count\n",
       "6     Vascular Plant           4262\n",
       "1               Bird            488\n",
       "4  Nonvascular Plant            333\n",
       "3             Mammal            176\n",
       "2               Fish            125\n",
       "0          Amphibian             79\n",
       "5            Reptile             78"
      ]
     },
     "execution_count": 214,
     "metadata": {},
     "output_type": "execute_result"
    }
   ],
   "source": [
    "species_by_category = df.groupby(['category']).scientific_name.nunique().reset_index(name='species_count')\n",
    "species_by_category = species_by_category.sort_values(by='species_count', ascending=False)\n",
    "species_by_category"
   ]
  },
  {
   "cell_type": "code",
   "execution_count": 215,
   "metadata": {
    "colab": {
     "base_uri": "https://localhost:8080/",
     "height": 927
    },
    "id": "RH5MaqZ5vXFt",
    "outputId": "c9e3cbb7-edc9-4bfd-9954-20db71cc6ccb"
   },
   "outputs": [
    {
     "data": {
      "text/html": [
       "<div>\n",
       "<style scoped>\n",
       "    .dataframe tbody tr th:only-of-type {\n",
       "        vertical-align: middle;\n",
       "    }\n",
       "\n",
       "    .dataframe tbody tr th {\n",
       "        vertical-align: top;\n",
       "    }\n",
       "\n",
       "    .dataframe thead th {\n",
       "        text-align: right;\n",
       "    }\n",
       "</style>\n",
       "<table border=\"1\" class=\"dataframe\">\n",
       "  <thead>\n",
       "    <tr style=\"text-align: right;\">\n",
       "      <th></th>\n",
       "      <th>category</th>\n",
       "      <th>park_name</th>\n",
       "      <th>name_count</th>\n",
       "    </tr>\n",
       "  </thead>\n",
       "  <tbody>\n",
       "    <tr>\n",
       "      <th>27</th>\n",
       "      <td>Vascular Plant</td>\n",
       "      <td>Yosemite National Park</td>\n",
       "      <td>4262</td>\n",
       "    </tr>\n",
       "    <tr>\n",
       "      <th>26</th>\n",
       "      <td>Vascular Plant</td>\n",
       "      <td>Yellowstone National Park</td>\n",
       "      <td>4262</td>\n",
       "    </tr>\n",
       "    <tr>\n",
       "      <th>25</th>\n",
       "      <td>Vascular Plant</td>\n",
       "      <td>Great Smoky Mountains National Park</td>\n",
       "      <td>4262</td>\n",
       "    </tr>\n",
       "    <tr>\n",
       "      <th>24</th>\n",
       "      <td>Vascular Plant</td>\n",
       "      <td>Bryce National Park</td>\n",
       "      <td>4262</td>\n",
       "    </tr>\n",
       "    <tr>\n",
       "      <th>4</th>\n",
       "      <td>Bird</td>\n",
       "      <td>Bryce National Park</td>\n",
       "      <td>488</td>\n",
       "    </tr>\n",
       "    <tr>\n",
       "      <th>5</th>\n",
       "      <td>Bird</td>\n",
       "      <td>Great Smoky Mountains National Park</td>\n",
       "      <td>488</td>\n",
       "    </tr>\n",
       "    <tr>\n",
       "      <th>6</th>\n",
       "      <td>Bird</td>\n",
       "      <td>Yellowstone National Park</td>\n",
       "      <td>488</td>\n",
       "    </tr>\n",
       "    <tr>\n",
       "      <th>7</th>\n",
       "      <td>Bird</td>\n",
       "      <td>Yosemite National Park</td>\n",
       "      <td>488</td>\n",
       "    </tr>\n",
       "    <tr>\n",
       "      <th>19</th>\n",
       "      <td>Nonvascular Plant</td>\n",
       "      <td>Yosemite National Park</td>\n",
       "      <td>333</td>\n",
       "    </tr>\n",
       "    <tr>\n",
       "      <th>18</th>\n",
       "      <td>Nonvascular Plant</td>\n",
       "      <td>Yellowstone National Park</td>\n",
       "      <td>333</td>\n",
       "    </tr>\n",
       "    <tr>\n",
       "      <th>17</th>\n",
       "      <td>Nonvascular Plant</td>\n",
       "      <td>Great Smoky Mountains National Park</td>\n",
       "      <td>333</td>\n",
       "    </tr>\n",
       "    <tr>\n",
       "      <th>16</th>\n",
       "      <td>Nonvascular Plant</td>\n",
       "      <td>Bryce National Park</td>\n",
       "      <td>333</td>\n",
       "    </tr>\n",
       "    <tr>\n",
       "      <th>15</th>\n",
       "      <td>Mammal</td>\n",
       "      <td>Yosemite National Park</td>\n",
       "      <td>176</td>\n",
       "    </tr>\n",
       "    <tr>\n",
       "      <th>14</th>\n",
       "      <td>Mammal</td>\n",
       "      <td>Yellowstone National Park</td>\n",
       "      <td>176</td>\n",
       "    </tr>\n",
       "    <tr>\n",
       "      <th>13</th>\n",
       "      <td>Mammal</td>\n",
       "      <td>Great Smoky Mountains National Park</td>\n",
       "      <td>176</td>\n",
       "    </tr>\n",
       "    <tr>\n",
       "      <th>12</th>\n",
       "      <td>Mammal</td>\n",
       "      <td>Bryce National Park</td>\n",
       "      <td>176</td>\n",
       "    </tr>\n",
       "    <tr>\n",
       "      <th>11</th>\n",
       "      <td>Fish</td>\n",
       "      <td>Yosemite National Park</td>\n",
       "      <td>125</td>\n",
       "    </tr>\n",
       "    <tr>\n",
       "      <th>10</th>\n",
       "      <td>Fish</td>\n",
       "      <td>Yellowstone National Park</td>\n",
       "      <td>125</td>\n",
       "    </tr>\n",
       "    <tr>\n",
       "      <th>9</th>\n",
       "      <td>Fish</td>\n",
       "      <td>Great Smoky Mountains National Park</td>\n",
       "      <td>125</td>\n",
       "    </tr>\n",
       "    <tr>\n",
       "      <th>8</th>\n",
       "      <td>Fish</td>\n",
       "      <td>Bryce National Park</td>\n",
       "      <td>125</td>\n",
       "    </tr>\n",
       "    <tr>\n",
       "      <th>1</th>\n",
       "      <td>Amphibian</td>\n",
       "      <td>Great Smoky Mountains National Park</td>\n",
       "      <td>79</td>\n",
       "    </tr>\n",
       "    <tr>\n",
       "      <th>3</th>\n",
       "      <td>Amphibian</td>\n",
       "      <td>Yosemite National Park</td>\n",
       "      <td>79</td>\n",
       "    </tr>\n",
       "    <tr>\n",
       "      <th>2</th>\n",
       "      <td>Amphibian</td>\n",
       "      <td>Yellowstone National Park</td>\n",
       "      <td>79</td>\n",
       "    </tr>\n",
       "    <tr>\n",
       "      <th>0</th>\n",
       "      <td>Amphibian</td>\n",
       "      <td>Bryce National Park</td>\n",
       "      <td>79</td>\n",
       "    </tr>\n",
       "    <tr>\n",
       "      <th>20</th>\n",
       "      <td>Reptile</td>\n",
       "      <td>Bryce National Park</td>\n",
       "      <td>78</td>\n",
       "    </tr>\n",
       "    <tr>\n",
       "      <th>21</th>\n",
       "      <td>Reptile</td>\n",
       "      <td>Great Smoky Mountains National Park</td>\n",
       "      <td>78</td>\n",
       "    </tr>\n",
       "    <tr>\n",
       "      <th>22</th>\n",
       "      <td>Reptile</td>\n",
       "      <td>Yellowstone National Park</td>\n",
       "      <td>78</td>\n",
       "    </tr>\n",
       "    <tr>\n",
       "      <th>23</th>\n",
       "      <td>Reptile</td>\n",
       "      <td>Yosemite National Park</td>\n",
       "      <td>78</td>\n",
       "    </tr>\n",
       "  </tbody>\n",
       "</table>\n",
       "</div>"
      ],
      "text/plain": [
       "             category                            park_name  name_count\n",
       "27     Vascular Plant               Yosemite National Park        4262\n",
       "26     Vascular Plant            Yellowstone National Park        4262\n",
       "25     Vascular Plant  Great Smoky Mountains National Park        4262\n",
       "24     Vascular Plant                  Bryce National Park        4262\n",
       "4                Bird                  Bryce National Park         488\n",
       "5                Bird  Great Smoky Mountains National Park         488\n",
       "6                Bird            Yellowstone National Park         488\n",
       "7                Bird               Yosemite National Park         488\n",
       "19  Nonvascular Plant               Yosemite National Park         333\n",
       "18  Nonvascular Plant            Yellowstone National Park         333\n",
       "17  Nonvascular Plant  Great Smoky Mountains National Park         333\n",
       "16  Nonvascular Plant                  Bryce National Park         333\n",
       "15             Mammal               Yosemite National Park         176\n",
       "14             Mammal            Yellowstone National Park         176\n",
       "13             Mammal  Great Smoky Mountains National Park         176\n",
       "12             Mammal                  Bryce National Park         176\n",
       "11               Fish               Yosemite National Park         125\n",
       "10               Fish            Yellowstone National Park         125\n",
       "9                Fish  Great Smoky Mountains National Park         125\n",
       "8                Fish                  Bryce National Park         125\n",
       "1           Amphibian  Great Smoky Mountains National Park          79\n",
       "3           Amphibian               Yosemite National Park          79\n",
       "2           Amphibian            Yellowstone National Park          79\n",
       "0           Amphibian                  Bryce National Park          79\n",
       "20            Reptile                  Bryce National Park          78\n",
       "21            Reptile  Great Smoky Mountains National Park          78\n",
       "22            Reptile            Yellowstone National Park          78\n",
       "23            Reptile               Yosemite National Park          78"
      ]
     },
     "execution_count": 215,
     "metadata": {},
     "output_type": "execute_result"
    }
   ],
   "source": [
    "species_count_park = df.groupby(['category', 'park_name']).scientific_name.count().reset_index(name='name_count')\n",
    "species_count_park = species_count_park.sort_values(by='name_count', ascending=False)\n",
    "species_count_park"
   ]
  },
  {
   "cell_type": "code",
   "execution_count": 216,
   "metadata": {
    "id": "voRpPz8dvXFu"
   },
   "outputs": [],
   "source": [
    "def bar_plot(x,y, data, titl, x_label, y_label, hue=None):\n",
    "    fig, ax = plt.subplots(figsize=(10,8))\n",
    "    sns.barplot(x=x, y=y,hue=hue, data=data, palette='rocket', ax=ax)\n",
    "    ax.set_title(titl)\n",
    "    ax.set_xlabel(x_label)\n",
    "    ax.set_ylabel(y_label)\n",
    "    return plt.show()"
   ]
  },
  {
   "cell_type": "code",
   "execution_count": 217,
   "metadata": {
    "colab": {
     "base_uri": "https://localhost:8080/",
     "height": 525
    },
    "id": "Nc7MwTCDvXFu",
    "outputId": "90a91258-29ca-4ea2-ce82-8ef0d0c6812f"
   },
   "outputs": [
    {
     "data": {
      "image/png": "[encoded data removed]",
      "text/plain": [
       "<Figure size 720x576 with 1 Axes>"
      ]
     },
     "metadata": {},
     "output_type": "display_data"
    }
   ],
   "source": [
    "bar_plot(x='species_count', y='category', data=species_by_category, titl='The number of species by categories', x_label='Count of species', y_label='Categories',hue=None)"
   ]
  },
  {
   "cell_type": "code",
   "execution_count": 218,
   "metadata": {
    "id": "EX_4lPhQvXFv"
   },
   "outputs": [],
   "source": [
    "def bar_plot_hue(x,y, data, titl, x_label, y_label, labels, hue=None):\n",
    "    fig, ax = plt.subplots(figsize=(10,8))\n",
    "    sns.barplot(x=x, y=y,hue=hue, data=data, palette='rocket', ax=ax)\n",
    "    ax.set_title(titl)\n",
    "    ax.set_xlabel(x_label)\n",
    "    ax.set_ylabel(y_label)\n",
    "    ax.set_xticklabels(labels, rotation=40, ha='center', minor=False)\n",
    "    ax.legend(loc='best', bbox_to_anchor=(1,1))\n",
    "    return plt.show()"
   ]
  },
  {
   "cell_type": "code",
   "execution_count": 220,
   "metadata": {
    "colab": {
     "base_uri": "https://localhost:8080/",
     "height": 206
    },
    "id": "O3YvSakqvXFy",
    "outputId": "ea7da7b2-306a-4836-bebb-bdb6f80f8507"
   },
   "outputs": [
    {
     "data": {
      "text/html": [
       "<div>\n",
       "<style scoped>\n",
       "    .dataframe tbody tr th:only-of-type {\n",
       "        vertical-align: middle;\n",
       "    }\n",
       "\n",
       "    .dataframe tbody tr th {\n",
       "        vertical-align: top;\n",
       "    }\n",
       "\n",
       "    .dataframe thead th {\n",
       "        text-align: right;\n",
       "    }\n",
       "</style>\n",
       "<table border=\"1\" class=\"dataframe\">\n",
       "  <thead>\n",
       "    <tr style=\"text-align: right;\">\n",
       "      <th></th>\n",
       "      <th>conservation_status</th>\n",
       "      <th>species_count</th>\n",
       "    </tr>\n",
       "  </thead>\n",
       "  <tbody>\n",
       "    <tr>\n",
       "      <th>4</th>\n",
       "      <td>NaN</td>\n",
       "      <td>5363</td>\n",
       "    </tr>\n",
       "    <tr>\n",
       "      <th>2</th>\n",
       "      <td>Species of Concern</td>\n",
       "      <td>151</td>\n",
       "    </tr>\n",
       "    <tr>\n",
       "      <th>0</th>\n",
       "      <td>Endangered</td>\n",
       "      <td>15</td>\n",
       "    </tr>\n",
       "    <tr>\n",
       "      <th>3</th>\n",
       "      <td>Threatened</td>\n",
       "      <td>9</td>\n",
       "    </tr>\n",
       "    <tr>\n",
       "      <th>1</th>\n",
       "      <td>In Recovery</td>\n",
       "      <td>3</td>\n",
       "    </tr>\n",
       "  </tbody>\n",
       "</table>\n",
       "</div>"
      ],
      "text/plain": [
       "  conservation_status  species_count\n",
       "4                 NaN           5363\n",
       "2  Species of Concern            151\n",
       "0          Endangered             15\n",
       "3          Threatened              9\n",
       "1         In Recovery              3"
      ]
     },
     "execution_count": 220,
     "metadata": {},
     "output_type": "execute_result"
    }
   ],
   "source": [
    "conservation_status = df.groupby(['conservation_status'], dropna=False).scientific_name.nunique().reset_index(name='species_count')\n",
    "conservation_status =  conservation_status.sort_values(by=['species_count'], ascending=False)\n",
    "conservation_status"
   ]
  },
  {
   "cell_type": "code",
   "execution_count": 221,
   "metadata": {
    "id": "qlNn2tcnvXFy",
    "scrolled": true
   },
   "outputs": [],
   "source": [
    "sums = conservation_status['species_count'].sum()"
   ]
  },
  {
   "cell_type": "code",
   "execution_count": 222,
   "metadata": {
    "id": "Tg2fGFfdvXFz"
   },
   "outputs": [],
   "source": [
    "conservation_status['percentage'] = conservation_status[['species_count']].apply(lambda x: x/x.sum())"
   ]
  },
  {
   "cell_type": "code",
   "execution_count": 223,
   "metadata": {
    "colab": {
     "base_uri": "https://localhost:8080/",
     "height": 206
    },
    "id": "hqeCASXUvXFz",
    "outputId": "4f72afd9-518e-4413-8f3a-405fb39bafd0"
   },
   "outputs": [
    {
     "data": {
      "text/html": [
       "<div>\n",
       "<style scoped>\n",
       "    .dataframe tbody tr th:only-of-type {\n",
       "        vertical-align: middle;\n",
       "    }\n",
       "\n",
       "    .dataframe tbody tr th {\n",
       "        vertical-align: top;\n",
       "    }\n",
       "\n",
       "    .dataframe thead th {\n",
       "        text-align: right;\n",
       "    }\n",
       "</style>\n",
       "<table border=\"1\" class=\"dataframe\">\n",
       "  <thead>\n",
       "    <tr style=\"text-align: right;\">\n",
       "      <th></th>\n",
       "      <th>conservation_status</th>\n",
       "      <th>species_count</th>\n",
       "      <th>percentage</th>\n",
       "    </tr>\n",
       "  </thead>\n",
       "  <tbody>\n",
       "    <tr>\n",
       "      <th>4</th>\n",
       "      <td>NaN</td>\n",
       "      <td>5363</td>\n",
       "      <td>0.967876</td>\n",
       "    </tr>\n",
       "    <tr>\n",
       "      <th>2</th>\n",
       "      <td>Species of Concern</td>\n",
       "      <td>151</td>\n",
       "      <td>0.027251</td>\n",
       "    </tr>\n",
       "    <tr>\n",
       "      <th>0</th>\n",
       "      <td>Endangered</td>\n",
       "      <td>15</td>\n",
       "      <td>0.002707</td>\n",
       "    </tr>\n",
       "    <tr>\n",
       "      <th>3</th>\n",
       "      <td>Threatened</td>\n",
       "      <td>9</td>\n",
       "      <td>0.001624</td>\n",
       "    </tr>\n",
       "    <tr>\n",
       "      <th>1</th>\n",
       "      <td>In Recovery</td>\n",
       "      <td>3</td>\n",
       "      <td>0.000541</td>\n",
       "    </tr>\n",
       "  </tbody>\n",
       "</table>\n",
       "</div>"
      ],
      "text/plain": [
       "  conservation_status  species_count  percentage\n",
       "4                 NaN           5363    0.967876\n",
       "2  Species of Concern            151    0.027251\n",
       "0          Endangered             15    0.002707\n",
       "3          Threatened              9    0.001624\n",
       "1         In Recovery              3    0.000541"
      ]
     },
     "execution_count": 223,
     "metadata": {},
     "output_type": "execute_result"
    }
   ],
   "source": [
    "conservation_status"
   ]
  },
  {
   "cell_type": "code",
   "execution_count": 224,
   "metadata": {
    "colab": {
     "base_uri": "https://localhost:8080/",
     "height": 175
    },
    "id": "Tws1bNwGvXF0",
    "outputId": "68bcc710-709f-40bb-c7b3-36e104f6f0ba"
   },
   "outputs": [
    {
     "data": {
      "text/html": [
       "<div>\n",
       "<style scoped>\n",
       "    .dataframe tbody tr th:only-of-type {\n",
       "        vertical-align: middle;\n",
       "    }\n",
       "\n",
       "    .dataframe tbody tr th {\n",
       "        vertical-align: top;\n",
       "    }\n",
       "\n",
       "    .dataframe thead th {\n",
       "        text-align: right;\n",
       "    }\n",
       "</style>\n",
       "<table border=\"1\" class=\"dataframe\">\n",
       "  <thead>\n",
       "    <tr style=\"text-align: right;\">\n",
       "      <th></th>\n",
       "      <th>index</th>\n",
       "      <th>conservation_status</th>\n",
       "      <th>species_count</th>\n",
       "      <th>percentage</th>\n",
       "    </tr>\n",
       "  </thead>\n",
       "  <tbody>\n",
       "    <tr>\n",
       "      <th>0</th>\n",
       "      <td>2</td>\n",
       "      <td>Species of Concern</td>\n",
       "      <td>151</td>\n",
       "      <td>0.027251</td>\n",
       "    </tr>\n",
       "    <tr>\n",
       "      <th>1</th>\n",
       "      <td>0</td>\n",
       "      <td>Endangered</td>\n",
       "      <td>15</td>\n",
       "      <td>0.002707</td>\n",
       "    </tr>\n",
       "    <tr>\n",
       "      <th>2</th>\n",
       "      <td>3</td>\n",
       "      <td>Threatened</td>\n",
       "      <td>9</td>\n",
       "      <td>0.001624</td>\n",
       "    </tr>\n",
       "    <tr>\n",
       "      <th>3</th>\n",
       "      <td>1</td>\n",
       "      <td>In Recovery</td>\n",
       "      <td>3</td>\n",
       "      <td>0.000541</td>\n",
       "    </tr>\n",
       "  </tbody>\n",
       "</table>\n",
       "</div>"
      ],
      "text/plain": [
       "   index conservation_status  species_count  percentage\n",
       "0      2  Species of Concern            151    0.027251\n",
       "1      0          Endangered             15    0.002707\n",
       "2      3          Threatened              9    0.001624\n",
       "3      1         In Recovery              3    0.000541"
      ]
     },
     "execution_count": 224,
     "metadata": {},
     "output_type": "execute_result"
    }
   ],
   "source": [
    "'drop Nan values'\n",
    "conservation_only = conservation_status.dropna().reset_index()\n",
    "conservation_only"
   ]
  },
  {
   "cell_type": "code",
   "execution_count": 225,
   "metadata": {
    "colab": {
     "base_uri": "https://localhost:8080/",
     "height": 525
    },
    "id": "Tk1LcYTfvXF0",
    "outputId": "3a032a43-fa07-452a-93a3-ec6d2cee095f"
   },
   "outputs": [
    {
     "data": {
      "image/png": "[encoded data removed]",
      "text/plain": [
       "<Figure size 720x576 with 1 Axes>"
      ]
     },
     "metadata": {},
     "output_type": "display_data"
    }
   ],
   "source": [
    "bar_plot(x='species_count',y='conservation_status', data=conservation_only, titl='Conservation species count', x_label='Count', y_label='Conserrvation status', hue=None)"
   ]
  },
  {
   "cell_type": "code",
   "execution_count": 226,
   "metadata": {
    "colab": {
     "base_uri": "https://localhost:8080/",
     "height": 206
    },
    "id": "hSBjkJUBvXF1",
    "outputId": "84027d4e-ce0c-44b3-9b5f-0d2075cfeb38"
   },
   "outputs": [
    {
     "data": {
      "text/html": [
       "<div>\n",
       "<style scoped>\n",
       "    .dataframe tbody tr th:only-of-type {\n",
       "        vertical-align: middle;\n",
       "    }\n",
       "\n",
       "    .dataframe tbody tr th {\n",
       "        vertical-align: top;\n",
       "    }\n",
       "\n",
       "    .dataframe thead th {\n",
       "        text-align: right;\n",
       "    }\n",
       "</style>\n",
       "<table border=\"1\" class=\"dataframe\">\n",
       "  <thead>\n",
       "    <tr style=\"text-align: right;\">\n",
       "      <th></th>\n",
       "      <th>conservation_status</th>\n",
       "      <th>species_count</th>\n",
       "      <th>percentage</th>\n",
       "    </tr>\n",
       "  </thead>\n",
       "  <tbody>\n",
       "    <tr>\n",
       "      <th>4</th>\n",
       "      <td>not_conservation</td>\n",
       "      <td>5363</td>\n",
       "      <td>0.967876</td>\n",
       "    </tr>\n",
       "    <tr>\n",
       "      <th>2</th>\n",
       "      <td>Species of Concern</td>\n",
       "      <td>151</td>\n",
       "      <td>0.027251</td>\n",
       "    </tr>\n",
       "    <tr>\n",
       "      <th>0</th>\n",
       "      <td>Endangered</td>\n",
       "      <td>15</td>\n",
       "      <td>0.002707</td>\n",
       "    </tr>\n",
       "    <tr>\n",
       "      <th>3</th>\n",
       "      <td>Threatened</td>\n",
       "      <td>9</td>\n",
       "      <td>0.001624</td>\n",
       "    </tr>\n",
       "    <tr>\n",
       "      <th>1</th>\n",
       "      <td>In Recovery</td>\n",
       "      <td>3</td>\n",
       "      <td>0.000541</td>\n",
       "    </tr>\n",
       "  </tbody>\n",
       "</table>\n",
       "</div>"
      ],
      "text/plain": [
       "  conservation_status  species_count  percentage\n",
       "4    not_conservation           5363    0.967876\n",
       "2  Species of Concern            151    0.027251\n",
       "0          Endangered             15    0.002707\n",
       "3          Threatened              9    0.001624\n",
       "1         In Recovery              3    0.000541"
      ]
     },
     "execution_count": 226,
     "metadata": {},
     "output_type": "execute_result"
    }
   ],
   "source": [
    "conservation_status.loc[conservation_status['conservation_status'].isna() , 'conservation_status']= 'not_conservation'\n",
    "conservation_status"
   ]
  },
  {
   "cell_type": "code",
   "execution_count": 227,
   "metadata": {
    "colab": {
     "base_uri": "https://localhost:8080/"
    },
    "id": "QiBb9vZkvXF1",
    "outputId": "3cc4e99a-f8d4-417b-c946-c966a923608a"
   },
   "outputs": [
    {
     "name": "stdout",
     "output_type": "stream",
     "text": [
      "0.9678758346868797\n",
      "0.03212416531312037\n"
     ]
    }
   ],
   "source": [
    "not_conservation = (conservation_status.loc[conservation_status['conservation_status'] == 'not_conservation', 'percentage']).sum()\n",
    "print(not_conservation) \n",
    "conservation = (conservation_status.loc[conservation_status['conservation_status'] != 'not_conservation', 'percentage']).sum()\n",
    "print(conservation)"
   ]
  },
  {
   "cell_type": "code",
   "execution_count": 228,
   "metadata": {
    "colab": {
     "base_uri": "https://localhost:8080/",
     "height": 466
    },
    "id": "f0-XpiZMvXF1",
    "outputId": "fb802f34-55d8-4fb3-ba8a-3e8109b11101"
   },
   "outputs": [
    {
     "data": {
      "image/png": "[encoded data removed]",
      "text/plain": [
       "<Figure size 720x576 with 1 Axes>"
      ]
     },
     "metadata": {},
     "output_type": "display_data"
    }
   ],
   "source": [
    "fig, ax = plt.subplots(figsize=(10,8))\n",
    "colors = sns.color_palette('rocket')[3:5]\n",
    "ax = plt.pie([conservation, not_conservation], autopct='%0.2f%%', colors=colors)\n",
    "plt.legend(['Conservation', 'Not conservation'], loc='best', bbox_to_anchor=(0.89,0.85) )\n",
    "plt.show()"
   ]
  },
  {
   "cell_type": "code",
   "execution_count": 229,
   "metadata": {
    "colab": {
     "base_uri": "https://localhost:8080/",
     "height": 582
    },
    "id": "KRzSwzJUvXF2",
    "outputId": "eccc4d1f-3199-46d5-b7a1-be496caf3998"
   },
   "outputs": [
    {
     "data": {
      "text/html": [
       "<div>\n",
       "<style scoped>\n",
       "    .dataframe tbody tr th:only-of-type {\n",
       "        vertical-align: middle;\n",
       "    }\n",
       "\n",
       "    .dataframe tbody tr th {\n",
       "        vertical-align: top;\n",
       "    }\n",
       "\n",
       "    .dataframe thead th {\n",
       "        text-align: right;\n",
       "    }\n",
       "</style>\n",
       "<table border=\"1\" class=\"dataframe\">\n",
       "  <thead>\n",
       "    <tr style=\"text-align: right;\">\n",
       "      <th></th>\n",
       "      <th>category</th>\n",
       "      <th>conservation_status</th>\n",
       "      <th>count</th>\n",
       "    </tr>\n",
       "  </thead>\n",
       "  <tbody>\n",
       "    <tr>\n",
       "      <th>0</th>\n",
       "      <td>Amphibian</td>\n",
       "      <td>Endangered</td>\n",
       "      <td>1</td>\n",
       "    </tr>\n",
       "    <tr>\n",
       "      <th>1</th>\n",
       "      <td>Amphibian</td>\n",
       "      <td>Species of Concern</td>\n",
       "      <td>4</td>\n",
       "    </tr>\n",
       "    <tr>\n",
       "      <th>2</th>\n",
       "      <td>Amphibian</td>\n",
       "      <td>Threatened</td>\n",
       "      <td>2</td>\n",
       "    </tr>\n",
       "    <tr>\n",
       "      <th>3</th>\n",
       "      <td>Bird</td>\n",
       "      <td>Endangered</td>\n",
       "      <td>4</td>\n",
       "    </tr>\n",
       "    <tr>\n",
       "      <th>4</th>\n",
       "      <td>Bird</td>\n",
       "      <td>In Recovery</td>\n",
       "      <td>3</td>\n",
       "    </tr>\n",
       "    <tr>\n",
       "      <th>5</th>\n",
       "      <td>Bird</td>\n",
       "      <td>Species of Concern</td>\n",
       "      <td>68</td>\n",
       "    </tr>\n",
       "    <tr>\n",
       "      <th>6</th>\n",
       "      <td>Fish</td>\n",
       "      <td>Endangered</td>\n",
       "      <td>3</td>\n",
       "    </tr>\n",
       "    <tr>\n",
       "      <th>7</th>\n",
       "      <td>Fish</td>\n",
       "      <td>Species of Concern</td>\n",
       "      <td>4</td>\n",
       "    </tr>\n",
       "    <tr>\n",
       "      <th>8</th>\n",
       "      <td>Fish</td>\n",
       "      <td>Threatened</td>\n",
       "      <td>3</td>\n",
       "    </tr>\n",
       "    <tr>\n",
       "      <th>9</th>\n",
       "      <td>Mammal</td>\n",
       "      <td>Endangered</td>\n",
       "      <td>6</td>\n",
       "    </tr>\n",
       "    <tr>\n",
       "      <th>10</th>\n",
       "      <td>Mammal</td>\n",
       "      <td>Species of Concern</td>\n",
       "      <td>22</td>\n",
       "    </tr>\n",
       "    <tr>\n",
       "      <th>11</th>\n",
       "      <td>Mammal</td>\n",
       "      <td>Threatened</td>\n",
       "      <td>2</td>\n",
       "    </tr>\n",
       "    <tr>\n",
       "      <th>12</th>\n",
       "      <td>Nonvascular Plant</td>\n",
       "      <td>Species of Concern</td>\n",
       "      <td>5</td>\n",
       "    </tr>\n",
       "    <tr>\n",
       "      <th>13</th>\n",
       "      <td>Reptile</td>\n",
       "      <td>Species of Concern</td>\n",
       "      <td>5</td>\n",
       "    </tr>\n",
       "    <tr>\n",
       "      <th>14</th>\n",
       "      <td>Vascular Plant</td>\n",
       "      <td>Endangered</td>\n",
       "      <td>1</td>\n",
       "    </tr>\n",
       "    <tr>\n",
       "      <th>15</th>\n",
       "      <td>Vascular Plant</td>\n",
       "      <td>Species of Concern</td>\n",
       "      <td>43</td>\n",
       "    </tr>\n",
       "    <tr>\n",
       "      <th>16</th>\n",
       "      <td>Vascular Plant</td>\n",
       "      <td>Threatened</td>\n",
       "      <td>2</td>\n",
       "    </tr>\n",
       "  </tbody>\n",
       "</table>\n",
       "</div>"
      ],
      "text/plain": [
       "             category conservation_status  count\n",
       "0           Amphibian          Endangered      1\n",
       "1           Amphibian  Species of Concern      4\n",
       "2           Amphibian          Threatened      2\n",
       "3                Bird          Endangered      4\n",
       "4                Bird         In Recovery      3\n",
       "5                Bird  Species of Concern     68\n",
       "6                Fish          Endangered      3\n",
       "7                Fish  Species of Concern      4\n",
       "8                Fish          Threatened      3\n",
       "9              Mammal          Endangered      6\n",
       "10             Mammal  Species of Concern     22\n",
       "11             Mammal          Threatened      2\n",
       "12  Nonvascular Plant  Species of Concern      5\n",
       "13            Reptile  Species of Concern      5\n",
       "14     Vascular Plant          Endangered      1\n",
       "15     Vascular Plant  Species of Concern     43\n",
       "16     Vascular Plant          Threatened      2"
      ]
     },
     "execution_count": 229,
     "metadata": {},
     "output_type": "execute_result"
    }
   ],
   "source": [
    "conservation_category = df.groupby(['category', 'conservation_status']).scientific_name.nunique().reset_index(name='count')\n",
    "conservation_category"
   ]
  },
  {
   "cell_type": "code",
   "execution_count": 230,
   "metadata": {
    "colab": {
     "base_uri": "https://localhost:8080/",
     "height": 525
    },
    "id": "WfiCOUz6vXF2",
    "outputId": "533556a0-bdac-4969-ade1-99ecf5e08fcc"
   },
   "outputs": [
    {
     "data": {
      "image/png": "[encoded data removed]",
      "text/plain": [
       "<Figure size 720x576 with 1 Axes>"
      ]
     },
     "metadata": {},
     "output_type": "display_data"
    }
   ],
   "source": [
    "fig, ax = plt.subplots(figsize=(10,8))\n",
    "ax = sns.barplot(x='count', y='conservation_status',hue='category', data=conservation_category, palette='rocket')\n",
    "ax.set_title('Conservation count by species and category')\n",
    "ax.set_xlabel('Count')\n",
    "ax.set_ylabel('Conservation')\n",
    "ax.legend(loc='upper left', bbox_to_anchor=(1.05,1), borderaxespad=0.)\n",
    "plt.show()"
   ]
  },
  {
   "cell_type": "markdown",
   "metadata": {
    "id": "eW4wGd2TwReH"
   },
   "source": [
    "<h1>Top 5 Species by filtered conservation and park name</h1>"
   ]
  },
  {
   "cell_type": "code",
   "execution_count": 231,
   "metadata": {
    "id": "D5nF5Ld8vXF3"
   },
   "outputs": [],
   "source": [
    "def top_status_park(n, status, park_name,df):\n",
    "    filtered_data = df[(df.park_name == park_name) & (df.conservation_status == status)] \n",
    "    filtered_data = filtered_data.sort_values('observations')\n",
    "    return filtered_data.head(n)"
   ]
  },
  {
   "cell_type": "code",
   "execution_count": 232,
   "metadata": {
    "id": "gHtVgpevwraC"
   },
   "outputs": [],
   "source": [
    "conservation_types = ['Species of Concern', 'Threatened' ,'Endangered' ,'In Recovery']\n",
    "park_types = ['Bryce National Park', 'Great Smoky Mountains National Park','Yellowstone National Park','Yosemite National Park']"
   ]
  },
  {
   "cell_type": "code",
   "execution_count": 233,
   "metadata": {
    "colab": {
     "base_uri": "https://localhost:8080/",
     "height": 337
    },
    "id": "lSOzk1Vqy_fY",
    "outputId": "85bf1612-f557-413e-fce3-d80144bb5c6e"
   },
   "outputs": [
    {
     "data": {
      "text/html": [
       "<div>\n",
       "<style scoped>\n",
       "    .dataframe tbody tr th:only-of-type {\n",
       "        vertical-align: middle;\n",
       "    }\n",
       "\n",
       "    .dataframe tbody tr th {\n",
       "        vertical-align: top;\n",
       "    }\n",
       "\n",
       "    .dataframe thead th {\n",
       "        text-align: right;\n",
       "    }\n",
       "</style>\n",
       "<table border=\"1\" class=\"dataframe\">\n",
       "  <thead>\n",
       "    <tr style=\"text-align: right;\">\n",
       "      <th></th>\n",
       "      <th>scientific_name</th>\n",
       "      <th>park_name</th>\n",
       "      <th>observations</th>\n",
       "      <th>category</th>\n",
       "      <th>common_names</th>\n",
       "      <th>conservation_status</th>\n",
       "    </tr>\n",
       "  </thead>\n",
       "  <tbody>\n",
       "    <tr>\n",
       "      <th>15316</th>\n",
       "      <td>Plagiomnium carolinianum</td>\n",
       "      <td>Bryce National Park</td>\n",
       "      <td>49.0</td>\n",
       "      <td>Nonvascular Plant</td>\n",
       "      <td>Carolina Plagiomnium Moss</td>\n",
       "      <td>Species of Concern</td>\n",
       "    </tr>\n",
       "    <tr>\n",
       "      <th>4428</th>\n",
       "      <td>Cathartes aura</td>\n",
       "      <td>Bryce National Park</td>\n",
       "      <td>49.0</td>\n",
       "      <td>Bird</td>\n",
       "      <td>Turkey Vulture</td>\n",
       "      <td>Species of Concern</td>\n",
       "    </tr>\n",
       "    <tr>\n",
       "      <th>15264</th>\n",
       "      <td>Piranga rubra</td>\n",
       "      <td>Bryce National Park</td>\n",
       "      <td>51.0</td>\n",
       "      <td>Bird</td>\n",
       "      <td>Summer Tanager</td>\n",
       "      <td>Species of Concern</td>\n",
       "    </tr>\n",
       "    <tr>\n",
       "      <th>16956</th>\n",
       "      <td>Rallus elegans</td>\n",
       "      <td>Bryce National Park</td>\n",
       "      <td>53.0</td>\n",
       "      <td>Bird</td>\n",
       "      <td>King Rail</td>\n",
       "      <td>Species of Concern</td>\n",
       "    </tr>\n",
       "    <tr>\n",
       "      <th>5716</th>\n",
       "      <td>Cottus bairdii</td>\n",
       "      <td>Bryce National Park</td>\n",
       "      <td>56.0</td>\n",
       "      <td>Fish</td>\n",
       "      <td>Mottled Sculpin</td>\n",
       "      <td>Species of Concern</td>\n",
       "    </tr>\n",
       "  </tbody>\n",
       "</table>\n",
       "</div>"
      ],
      "text/plain": [
       "                scientific_name            park_name  observations  \\\n",
       "15316  Plagiomnium carolinianum  Bryce National Park          49.0   \n",
       "4428             Cathartes aura  Bryce National Park          49.0   \n",
       "15264             Piranga rubra  Bryce National Park          51.0   \n",
       "16956            Rallus elegans  Bryce National Park          53.0   \n",
       "5716             Cottus bairdii  Bryce National Park          56.0   \n",
       "\n",
       "                category               common_names conservation_status  \n",
       "15316  Nonvascular Plant  Carolina Plagiomnium Moss  Species of Concern  \n",
       "4428                Bird             Turkey Vulture  Species of Concern  \n",
       "15264               Bird             Summer Tanager  Species of Concern  \n",
       "16956               Bird                  King Rail  Species of Concern  \n",
       "5716                Fish            Mottled Sculpin  Species of Concern  "
      ]
     },
     "execution_count": 233,
     "metadata": {},
     "output_type": "execute_result"
    }
   ],
   "source": [
    "top_status_park(5, conservation_types[0], park_types[0], df)"
   ]
  },
  {
   "cell_type": "code",
   "execution_count": 234,
   "metadata": {
    "colab": {
     "base_uri": "https://localhost:8080/",
     "height": 206
    },
    "id": "dpIcrz0rzSDi",
    "outputId": "ae9d5208-9c5a-46ae-d5f4-06ac5c1b5cc9"
   },
   "outputs": [
    {
     "data": {
      "text/html": [
       "<div>\n",
       "<style scoped>\n",
       "    .dataframe tbody tr th:only-of-type {\n",
       "        vertical-align: middle;\n",
       "    }\n",
       "\n",
       "    .dataframe tbody tr th {\n",
       "        vertical-align: top;\n",
       "    }\n",
       "\n",
       "    .dataframe thead th {\n",
       "        text-align: right;\n",
       "    }\n",
       "</style>\n",
       "<table border=\"1\" class=\"dataframe\">\n",
       "  <thead>\n",
       "    <tr style=\"text-align: right;\">\n",
       "      <th></th>\n",
       "      <th>scientific_name</th>\n",
       "      <th>park_name</th>\n",
       "      <th>observations</th>\n",
       "      <th>category</th>\n",
       "      <th>common_names</th>\n",
       "      <th>conservation_status</th>\n",
       "    </tr>\n",
       "  </thead>\n",
       "  <tbody>\n",
       "    <tr>\n",
       "      <th>16972</th>\n",
       "      <td>Rana draytonii</td>\n",
       "      <td>Bryce National Park</td>\n",
       "      <td>37.0</td>\n",
       "      <td>Amphibian</td>\n",
       "      <td>California Red-Legged Frog</td>\n",
       "      <td>Threatened</td>\n",
       "    </tr>\n",
       "    <tr>\n",
       "      <th>21212</th>\n",
       "      <td>Ursus arctos horribilis</td>\n",
       "      <td>Bryce National Park</td>\n",
       "      <td>38.0</td>\n",
       "      <td>Mammal</td>\n",
       "      <td>Grizzly Bear</td>\n",
       "      <td>Threatened</td>\n",
       "    </tr>\n",
       "    <tr>\n",
       "      <th>10428</th>\n",
       "      <td>Isotria medeoloides</td>\n",
       "      <td>Bryce National Park</td>\n",
       "      <td>42.0</td>\n",
       "      <td>Vascular Plant</td>\n",
       "      <td>Small Whorled Pogonia</td>\n",
       "      <td>Threatened</td>\n",
       "    </tr>\n",
       "    <tr>\n",
       "      <th>956</th>\n",
       "      <td>Anaxyrus canorus</td>\n",
       "      <td>Bryce National Park</td>\n",
       "      <td>43.0</td>\n",
       "      <td>Amphibian</td>\n",
       "      <td>Yosemite Toad</td>\n",
       "      <td>Threatened</td>\n",
       "    </tr>\n",
       "    <tr>\n",
       "      <th>7844</th>\n",
       "      <td>Erimonax monachus</td>\n",
       "      <td>Bryce National Park</td>\n",
       "      <td>46.0</td>\n",
       "      <td>Fish</td>\n",
       "      <td>Spotfin Chub</td>\n",
       "      <td>Threatened</td>\n",
       "    </tr>\n",
       "  </tbody>\n",
       "</table>\n",
       "</div>"
      ],
      "text/plain": [
       "               scientific_name            park_name  observations  \\\n",
       "16972           Rana draytonii  Bryce National Park          37.0   \n",
       "21212  Ursus arctos horribilis  Bryce National Park          38.0   \n",
       "10428      Isotria medeoloides  Bryce National Park          42.0   \n",
       "956           Anaxyrus canorus  Bryce National Park          43.0   \n",
       "7844         Erimonax monachus  Bryce National Park          46.0   \n",
       "\n",
       "             category                common_names conservation_status  \n",
       "16972       Amphibian  California Red-Legged Frog          Threatened  \n",
       "21212          Mammal                Grizzly Bear          Threatened  \n",
       "10428  Vascular Plant       Small Whorled Pogonia          Threatened  \n",
       "956         Amphibian               Yosemite Toad          Threatened  \n",
       "7844             Fish                Spotfin Chub          Threatened  "
      ]
     },
     "execution_count": 234,
     "metadata": {},
     "output_type": "execute_result"
    }
   ],
   "source": [
    "top_status_park(5, conservation_types[1], park_types[0], df)"
   ]
  },
  {
   "cell_type": "code",
   "execution_count": 235,
   "metadata": {
    "colab": {
     "base_uri": "https://localhost:8080/",
     "height": 337
    },
    "id": "eX05y9DYzY_N",
    "outputId": "e2987da1-17ae-449c-f122-9bf96d20279f"
   },
   "outputs": [
    {
     "data": {
      "text/html": [
       "<div>\n",
       "<style scoped>\n",
       "    .dataframe tbody tr th:only-of-type {\n",
       "        vertical-align: middle;\n",
       "    }\n",
       "\n",
       "    .dataframe tbody tr th {\n",
       "        vertical-align: top;\n",
       "    }\n",
       "\n",
       "    .dataframe thead th {\n",
       "        text-align: right;\n",
       "    }\n",
       "</style>\n",
       "<table border=\"1\" class=\"dataframe\">\n",
       "  <thead>\n",
       "    <tr style=\"text-align: right;\">\n",
       "      <th></th>\n",
       "      <th>scientific_name</th>\n",
       "      <th>park_name</th>\n",
       "      <th>observations</th>\n",
       "      <th>category</th>\n",
       "      <th>common_names</th>\n",
       "      <th>conservation_status</th>\n",
       "    </tr>\n",
       "  </thead>\n",
       "  <tbody>\n",
       "    <tr>\n",
       "      <th>21424</th>\n",
       "      <td>Vermivora bachmanii</td>\n",
       "      <td>Bryce National Park</td>\n",
       "      <td>20.0</td>\n",
       "      <td>Bird</td>\n",
       "      <td>Bachman's Warbler, Bachman's Wood Warbler</td>\n",
       "      <td>Endangered</td>\n",
       "    </tr>\n",
       "    <tr>\n",
       "      <th>13576</th>\n",
       "      <td>Noturus baileyi</td>\n",
       "      <td>Bryce National Park</td>\n",
       "      <td>22.0</td>\n",
       "      <td>Fish</td>\n",
       "      <td>Smoky Madtom</td>\n",
       "      <td>Endangered</td>\n",
       "    </tr>\n",
       "    <tr>\n",
       "      <th>13968</th>\n",
       "      <td>Ovis canadensis sierrae</td>\n",
       "      <td>Bryce National Park</td>\n",
       "      <td>22.0</td>\n",
       "      <td>Mammal</td>\n",
       "      <td>Sierra Nevada Bighorn Sheep</td>\n",
       "      <td>Endangered</td>\n",
       "    </tr>\n",
       "    <tr>\n",
       "      <th>4824</th>\n",
       "      <td>Chasmistes liorus</td>\n",
       "      <td>Bryce National Park</td>\n",
       "      <td>23.0</td>\n",
       "      <td>Fish</td>\n",
       "      <td>June Sucker</td>\n",
       "      <td>Endangered</td>\n",
       "    </tr>\n",
       "    <tr>\n",
       "      <th>9292</th>\n",
       "      <td>Grus americana</td>\n",
       "      <td>Bryce National Park</td>\n",
       "      <td>24.0</td>\n",
       "      <td>Bird</td>\n",
       "      <td>Whooping Crane</td>\n",
       "      <td>Endangered</td>\n",
       "    </tr>\n",
       "  </tbody>\n",
       "</table>\n",
       "</div>"
      ],
      "text/plain": [
       "               scientific_name            park_name  observations category  \\\n",
       "21424      Vermivora bachmanii  Bryce National Park          20.0     Bird   \n",
       "13576          Noturus baileyi  Bryce National Park          22.0     Fish   \n",
       "13968  Ovis canadensis sierrae  Bryce National Park          22.0   Mammal   \n",
       "4824         Chasmistes liorus  Bryce National Park          23.0     Fish   \n",
       "9292            Grus americana  Bryce National Park          24.0     Bird   \n",
       "\n",
       "                                    common_names conservation_status  \n",
       "21424  Bachman's Warbler, Bachman's Wood Warbler          Endangered  \n",
       "13576                               Smoky Madtom          Endangered  \n",
       "13968                Sierra Nevada Bighorn Sheep          Endangered  \n",
       "4824                                 June Sucker          Endangered  \n",
       "9292                              Whooping Crane          Endangered  "
      ]
     },
     "execution_count": 235,
     "metadata": {},
     "output_type": "execute_result"
    }
   ],
   "source": [
    "top_status_park(5, conservation_types[2], park_types[0], df)"
   ]
  },
  {
   "cell_type": "code",
   "execution_count": 236,
   "metadata": {
    "colab": {
     "base_uri": "https://localhost:8080/",
     "height": 143
    },
    "id": "aSRhIrBzzoWw",
    "outputId": "af44f87c-667e-4bf0-a350-ff7daf1e41b2"
   },
   "outputs": [
    {
     "data": {
      "text/html": [
       "<div>\n",
       "<style scoped>\n",
       "    .dataframe tbody tr th:only-of-type {\n",
       "        vertical-align: middle;\n",
       "    }\n",
       "\n",
       "    .dataframe tbody tr th {\n",
       "        vertical-align: top;\n",
       "    }\n",
       "\n",
       "    .dataframe thead th {\n",
       "        text-align: right;\n",
       "    }\n",
       "</style>\n",
       "<table border=\"1\" class=\"dataframe\">\n",
       "  <thead>\n",
       "    <tr style=\"text-align: right;\">\n",
       "      <th></th>\n",
       "      <th>scientific_name</th>\n",
       "      <th>park_name</th>\n",
       "      <th>observations</th>\n",
       "      <th>category</th>\n",
       "      <th>common_names</th>\n",
       "      <th>conservation_status</th>\n",
       "    </tr>\n",
       "  </thead>\n",
       "  <tbody>\n",
       "    <tr>\n",
       "      <th>8452</th>\n",
       "      <td>Falco peregrinus anatum</td>\n",
       "      <td>Bryce National Park</td>\n",
       "      <td>72.0</td>\n",
       "      <td>Bird</td>\n",
       "      <td>American Peregrine Falcon</td>\n",
       "      <td>In Recovery</td>\n",
       "    </tr>\n",
       "    <tr>\n",
       "      <th>14376</th>\n",
       "      <td>Pelecanus occidentalis</td>\n",
       "      <td>Bryce National Park</td>\n",
       "      <td>92.0</td>\n",
       "      <td>Bird</td>\n",
       "      <td>Brown Pelican</td>\n",
       "      <td>In Recovery</td>\n",
       "    </tr>\n",
       "    <tr>\n",
       "      <th>9384</th>\n",
       "      <td>Haliaeetus leucocephalus</td>\n",
       "      <td>Bryce National Park</td>\n",
       "      <td>94.0</td>\n",
       "      <td>Bird</td>\n",
       "      <td>Bald Eagle</td>\n",
       "      <td>In Recovery</td>\n",
       "    </tr>\n",
       "  </tbody>\n",
       "</table>\n",
       "</div>"
      ],
      "text/plain": [
       "                scientific_name            park_name  observations category  \\\n",
       "8452    Falco peregrinus anatum  Bryce National Park          72.0     Bird   \n",
       "14376    Pelecanus occidentalis  Bryce National Park          92.0     Bird   \n",
       "9384   Haliaeetus leucocephalus  Bryce National Park          94.0     Bird   \n",
       "\n",
       "                    common_names conservation_status  \n",
       "8452   American Peregrine Falcon         In Recovery  \n",
       "14376              Brown Pelican         In Recovery  \n",
       "9384                  Bald Eagle         In Recovery  "
      ]
     },
     "execution_count": 236,
     "metadata": {},
     "output_type": "execute_result"
    }
   ],
   "source": [
    "top_status_park(5, conservation_types[3], park_types[0], df)"
   ]
  },
  {
   "cell_type": "markdown",
   "metadata": {
    "id": "kIHy6fOjz70S"
   },
   "source": [
    "<h1>Overall Top 5 Species</h1> "
   ]
  },
  {
   "cell_type": "code",
   "execution_count": 237,
   "metadata": {
    "colab": {
     "base_uri": "https://localhost:8080/",
     "height": 354
    },
    "id": "oF1s7qoz1-5G",
    "outputId": "b0a5f084-7ac8-47f1-8d57-e02993c1f90f"
   },
   "outputs": [
    {
     "data": {
      "text/html": [
       "<div>\n",
       "<style scoped>\n",
       "    .dataframe tbody tr th:only-of-type {\n",
       "        vertical-align: middle;\n",
       "    }\n",
       "\n",
       "    .dataframe tbody tr th {\n",
       "        vertical-align: top;\n",
       "    }\n",
       "\n",
       "    .dataframe thead th {\n",
       "        text-align: right;\n",
       "    }\n",
       "</style>\n",
       "<table border=\"1\" class=\"dataframe\">\n",
       "  <thead>\n",
       "    <tr style=\"text-align: right;\">\n",
       "      <th></th>\n",
       "      <th>scientific_name</th>\n",
       "      <th>park_name</th>\n",
       "      <th>observations</th>\n",
       "      <th>category</th>\n",
       "      <th>common_names</th>\n",
       "      <th>conservation_status</th>\n",
       "    </tr>\n",
       "  </thead>\n",
       "  <tbody>\n",
       "    <tr>\n",
       "      <th>0</th>\n",
       "      <td>Abies bifolia</td>\n",
       "      <td>Bryce National Park</td>\n",
       "      <td>109.0</td>\n",
       "      <td>Vascular Plant</td>\n",
       "      <td>Rocky Mountain Alpine Fir</td>\n",
       "      <td>NaN</td>\n",
       "    </tr>\n",
       "    <tr>\n",
       "      <th>1</th>\n",
       "      <td>Abies bifolia</td>\n",
       "      <td>Great Smoky Mountains National Park</td>\n",
       "      <td>72.0</td>\n",
       "      <td>Vascular Plant</td>\n",
       "      <td>Rocky Mountain Alpine Fir</td>\n",
       "      <td>NaN</td>\n",
       "    </tr>\n",
       "    <tr>\n",
       "      <th>2</th>\n",
       "      <td>Abies bifolia</td>\n",
       "      <td>Yellowstone National Park</td>\n",
       "      <td>215.0</td>\n",
       "      <td>Vascular Plant</td>\n",
       "      <td>Rocky Mountain Alpine Fir</td>\n",
       "      <td>NaN</td>\n",
       "    </tr>\n",
       "    <tr>\n",
       "      <th>3</th>\n",
       "      <td>Abies bifolia</td>\n",
       "      <td>Yosemite National Park</td>\n",
       "      <td>136.0</td>\n",
       "      <td>Vascular Plant</td>\n",
       "      <td>Rocky Mountain Alpine Fir</td>\n",
       "      <td>NaN</td>\n",
       "    </tr>\n",
       "    <tr>\n",
       "      <th>4</th>\n",
       "      <td>Abies concolor</td>\n",
       "      <td>Bryce National Park</td>\n",
       "      <td>83.0</td>\n",
       "      <td>Vascular Plant</td>\n",
       "      <td>Balsam Fir, Colorado Fir, Concolor Fir, Silver Fir, White Balsam, White Fir</td>\n",
       "      <td>NaN</td>\n",
       "    </tr>\n",
       "  </tbody>\n",
       "</table>\n",
       "</div>"
      ],
      "text/plain": [
       "  scientific_name                            park_name  observations  \\\n",
       "0   Abies bifolia                  Bryce National Park         109.0   \n",
       "1   Abies bifolia  Great Smoky Mountains National Park          72.0   \n",
       "2   Abies bifolia            Yellowstone National Park         215.0   \n",
       "3   Abies bifolia               Yosemite National Park         136.0   \n",
       "4  Abies concolor                  Bryce National Park          83.0   \n",
       "\n",
       "         category  \\\n",
       "0  Vascular Plant   \n",
       "1  Vascular Plant   \n",
       "2  Vascular Plant   \n",
       "3  Vascular Plant   \n",
       "4  Vascular Plant   \n",
       "\n",
       "                                                                  common_names  \\\n",
       "0                                                    Rocky Mountain Alpine Fir   \n",
       "1                                                    Rocky Mountain Alpine Fir   \n",
       "2                                                    Rocky Mountain Alpine Fir   \n",
       "3                                                    Rocky Mountain Alpine Fir   \n",
       "4  Balsam Fir, Colorado Fir, Concolor Fir, Silver Fir, White Balsam, White Fir   \n",
       "\n",
       "  conservation_status  \n",
       "0                 NaN  \n",
       "1                 NaN  \n",
       "2                 NaN  \n",
       "3                 NaN  \n",
       "4                 NaN  "
      ]
     },
     "execution_count": 237,
     "metadata": {},
     "output_type": "execute_result"
    }
   ],
   "source": [
    "df.head()"
   ]
  },
  {
   "cell_type": "code",
   "execution_count": 238,
   "metadata": {
    "id": "pyumN52Szwxv"
   },
   "outputs": [],
   "source": [
    "def top_spieces(n, conservation, dataset):\n",
    "  filtered_by_conservation = dataset[dataset.conservation_status == conservation]\n",
    "  group_by_species = filtered_by_conservation.groupby('scientific_name').observations.sum().reset_index()\n",
    "  group_by_species = group_by_species.sort_values(by='observations')\n",
    "  top_n_species = group_by_species.scientific_name.values[:n]\n",
    "  top_n_data = dataset.loc[dataset.scientific_name.apply(lambda x : x in top_n_species)]\n",
    "  pivot_data = top_n_data.pivot_table(index=['scientific_name', 'category'], columns='park_name', values='observations', aggfunc = np.sum, margins=True)\n",
    "  return pivot_data\n"
   ]
  },
  {
   "cell_type": "code",
   "execution_count": 239,
   "metadata": {
    "colab": {
     "base_uri": "https://localhost:8080/",
     "height": 348
    },
    "id": "Q7UhWQmB1f6n",
    "outputId": "15fa18b2-a7cd-45da-cca8-3745a152cf81"
   },
   "outputs": [
    {
     "data": {
      "text/html": [
       "<div>\n",
       "<style scoped>\n",
       "    .dataframe tbody tr th:only-of-type {\n",
       "        vertical-align: middle;\n",
       "    }\n",
       "\n",
       "    .dataframe tbody tr th {\n",
       "        vertical-align: top;\n",
       "    }\n",
       "\n",
       "    .dataframe thead th {\n",
       "        text-align: right;\n",
       "    }\n",
       "</style>\n",
       "<table border=\"1\" class=\"dataframe\">\n",
       "  <thead>\n",
       "    <tr style=\"text-align: right;\">\n",
       "      <th></th>\n",
       "      <th>park_name</th>\n",
       "      <th>Bryce National Park</th>\n",
       "      <th>Great Smoky Mountains National Park</th>\n",
       "      <th>Yellowstone National Park</th>\n",
       "      <th>Yosemite National Park</th>\n",
       "      <th>All</th>\n",
       "    </tr>\n",
       "    <tr>\n",
       "      <th>scientific_name</th>\n",
       "      <th>category</th>\n",
       "      <th></th>\n",
       "      <th></th>\n",
       "      <th></th>\n",
       "      <th></th>\n",
       "      <th></th>\n",
       "    </tr>\n",
       "  </thead>\n",
       "  <tbody>\n",
       "    <tr>\n",
       "      <th>Accipiter striatus</th>\n",
       "      <th>Bird</th>\n",
       "      <td>62.0</td>\n",
       "      <td>69.0</td>\n",
       "      <td>200.0</td>\n",
       "      <td>115.0</td>\n",
       "      <td>446.0</td>\n",
       "    </tr>\n",
       "    <tr>\n",
       "      <th>Buteo lineatus</th>\n",
       "      <th>Bird</th>\n",
       "      <td>85.0</td>\n",
       "      <td>31.0</td>\n",
       "      <td>224.0</td>\n",
       "      <td>109.0</td>\n",
       "      <td>449.0</td>\n",
       "    </tr>\n",
       "    <tr>\n",
       "      <th>Cathartes aura</th>\n",
       "      <th>Bird</th>\n",
       "      <td>49.0</td>\n",
       "      <td>47.0</td>\n",
       "      <td>237.0</td>\n",
       "      <td>115.0</td>\n",
       "      <td>448.0</td>\n",
       "    </tr>\n",
       "    <tr>\n",
       "      <th>Certhia americana</th>\n",
       "      <th>Bird</th>\n",
       "      <td>79.0</td>\n",
       "      <td>63.0</td>\n",
       "      <td>189.0</td>\n",
       "      <td>115.0</td>\n",
       "      <td>446.0</td>\n",
       "    </tr>\n",
       "    <tr>\n",
       "      <th>Phalacrocorax auritus</th>\n",
       "      <th>Bird</th>\n",
       "      <td>61.0</td>\n",
       "      <td>45.0</td>\n",
       "      <td>218.0</td>\n",
       "      <td>117.0</td>\n",
       "      <td>441.0</td>\n",
       "    </tr>\n",
       "    <tr>\n",
       "      <th>All</th>\n",
       "      <th></th>\n",
       "      <td>336.0</td>\n",
       "      <td>255.0</td>\n",
       "      <td>1068.0</td>\n",
       "      <td>571.0</td>\n",
       "      <td>2230.0</td>\n",
       "    </tr>\n",
       "  </tbody>\n",
       "</table>\n",
       "</div>"
      ],
      "text/plain": [
       "park_name                       Bryce National Park  \\\n",
       "scientific_name       category                        \n",
       "Accipiter striatus    Bird                     62.0   \n",
       "Buteo lineatus        Bird                     85.0   \n",
       "Cathartes aura        Bird                     49.0   \n",
       "Certhia americana     Bird                     79.0   \n",
       "Phalacrocorax auritus Bird                     61.0   \n",
       "All                                           336.0   \n",
       "\n",
       "park_name                       Great Smoky Mountains National Park  \\\n",
       "scientific_name       category                                        \n",
       "Accipiter striatus    Bird                                     69.0   \n",
       "Buteo lineatus        Bird                                     31.0   \n",
       "Cathartes aura        Bird                                     47.0   \n",
       "Certhia americana     Bird                                     63.0   \n",
       "Phalacrocorax auritus Bird                                     45.0   \n",
       "All                                                           255.0   \n",
       "\n",
       "park_name                       Yellowstone National Park  \\\n",
       "scientific_name       category                              \n",
       "Accipiter striatus    Bird                          200.0   \n",
       "Buteo lineatus        Bird                          224.0   \n",
       "Cathartes aura        Bird                          237.0   \n",
       "Certhia americana     Bird                          189.0   \n",
       "Phalacrocorax auritus Bird                          218.0   \n",
       "All                                                1068.0   \n",
       "\n",
       "park_name                       Yosemite National Park     All  \n",
       "scientific_name       category                                  \n",
       "Accipiter striatus    Bird                       115.0   446.0  \n",
       "Buteo lineatus        Bird                       109.0   449.0  \n",
       "Cathartes aura        Bird                       115.0   448.0  \n",
       "Certhia americana     Bird                       115.0   446.0  \n",
       "Phalacrocorax auritus Bird                       117.0   441.0  \n",
       "All                                              571.0  2230.0  "
      ]
     },
     "execution_count": 239,
     "metadata": {},
     "output_type": "execute_result"
    }
   ],
   "source": [
    "top_spieces(n=5, conservation = conservation_types[0], dataset=df)"
   ]
  },
  {
   "cell_type": "code",
   "execution_count": 240,
   "metadata": {
    "colab": {
     "base_uri": "https://localhost:8080/"
    },
    "id": "fExhMNkx4y4J",
    "outputId": "686139f8-728f-4f17-9cbd-1ff9c34a73a2"
   },
   "outputs": [
    {
     "name": "stdout",
     "output_type": "stream",
     "text": [
      "Threatened\n"
     ]
    }
   ],
   "source": [
    "print(conservation_types[1])"
   ]
  },
  {
   "cell_type": "code",
   "execution_count": 241,
   "metadata": {
    "colab": {
     "base_uri": "https://localhost:8080/",
     "height": 400
    },
    "id": "_GUW6kHh4wSf",
    "outputId": "3b165823-e883-4393-aa0f-235285a5c5a2"
   },
   "outputs": [
    {
     "data": {
      "text/html": [
       "<div>\n",
       "<style scoped>\n",
       "    .dataframe tbody tr th:only-of-type {\n",
       "        vertical-align: middle;\n",
       "    }\n",
       "\n",
       "    .dataframe tbody tr th {\n",
       "        vertical-align: top;\n",
       "    }\n",
       "\n",
       "    .dataframe thead th {\n",
       "        text-align: right;\n",
       "    }\n",
       "</style>\n",
       "<table border=\"1\" class=\"dataframe\">\n",
       "  <thead>\n",
       "    <tr style=\"text-align: right;\">\n",
       "      <th></th>\n",
       "      <th>park_name</th>\n",
       "      <th>Bryce National Park</th>\n",
       "      <th>Great Smoky Mountains National Park</th>\n",
       "      <th>Yellowstone National Park</th>\n",
       "      <th>Yosemite National Park</th>\n",
       "      <th>All</th>\n",
       "    </tr>\n",
       "    <tr>\n",
       "      <th>scientific_name</th>\n",
       "      <th>category</th>\n",
       "      <th></th>\n",
       "      <th></th>\n",
       "      <th></th>\n",
       "      <th></th>\n",
       "      <th></th>\n",
       "    </tr>\n",
       "  </thead>\n",
       "  <tbody>\n",
       "    <tr>\n",
       "      <th>Anaxyrus canorus</th>\n",
       "      <th>Amphibian</th>\n",
       "      <td>43.0</td>\n",
       "      <td>30.0</td>\n",
       "      <td>114.0</td>\n",
       "      <td>87.0</td>\n",
       "      <td>274.0</td>\n",
       "    </tr>\n",
       "    <tr>\n",
       "      <th>Erimonax monachus</th>\n",
       "      <th>Fish</th>\n",
       "      <td>46.0</td>\n",
       "      <td>18.0</td>\n",
       "      <td>109.0</td>\n",
       "      <td>69.0</td>\n",
       "      <td>242.0</td>\n",
       "    </tr>\n",
       "    <tr>\n",
       "      <th>Isotria medeoloides</th>\n",
       "      <th>Vascular Plant</th>\n",
       "      <td>42.0</td>\n",
       "      <td>36.0</td>\n",
       "      <td>114.0</td>\n",
       "      <td>82.0</td>\n",
       "      <td>274.0</td>\n",
       "    </tr>\n",
       "    <tr>\n",
       "      <th>Spiraea virginiana</th>\n",
       "      <th>Vascular Plant</th>\n",
       "      <td>57.0</td>\n",
       "      <td>45.0</td>\n",
       "      <td>114.0</td>\n",
       "      <td>62.0</td>\n",
       "      <td>278.0</td>\n",
       "    </tr>\n",
       "    <tr>\n",
       "      <th>Ursus arctos horribilis</th>\n",
       "      <th>Mammal</th>\n",
       "      <td>38.0</td>\n",
       "      <td>50.0</td>\n",
       "      <td>115.0</td>\n",
       "      <td>73.0</td>\n",
       "      <td>276.0</td>\n",
       "    </tr>\n",
       "    <tr>\n",
       "      <th>All</th>\n",
       "      <th></th>\n",
       "      <td>226.0</td>\n",
       "      <td>179.0</td>\n",
       "      <td>566.0</td>\n",
       "      <td>373.0</td>\n",
       "      <td>1344.0</td>\n",
       "    </tr>\n",
       "  </tbody>\n",
       "</table>\n",
       "</div>"
      ],
      "text/plain": [
       "park_name                               Bryce National Park  \\\n",
       "scientific_name         category                              \n",
       "Anaxyrus canorus        Amphibian                      43.0   \n",
       "Erimonax monachus       Fish                           46.0   \n",
       "Isotria medeoloides     Vascular Plant                 42.0   \n",
       "Spiraea virginiana      Vascular Plant                 57.0   \n",
       "Ursus arctos horribilis Mammal                         38.0   \n",
       "All                                                   226.0   \n",
       "\n",
       "park_name                               Great Smoky Mountains National Park  \\\n",
       "scientific_name         category                                              \n",
       "Anaxyrus canorus        Amphibian                                      30.0   \n",
       "Erimonax monachus       Fish                                           18.0   \n",
       "Isotria medeoloides     Vascular Plant                                 36.0   \n",
       "Spiraea virginiana      Vascular Plant                                 45.0   \n",
       "Ursus arctos horribilis Mammal                                         50.0   \n",
       "All                                                                   179.0   \n",
       "\n",
       "park_name                               Yellowstone National Park  \\\n",
       "scientific_name         category                                    \n",
       "Anaxyrus canorus        Amphibian                           114.0   \n",
       "Erimonax monachus       Fish                                109.0   \n",
       "Isotria medeoloides     Vascular Plant                      114.0   \n",
       "Spiraea virginiana      Vascular Plant                      114.0   \n",
       "Ursus arctos horribilis Mammal                              115.0   \n",
       "All                                                         566.0   \n",
       "\n",
       "park_name                               Yosemite National Park     All  \n",
       "scientific_name         category                                        \n",
       "Anaxyrus canorus        Amphibian                         87.0   274.0  \n",
       "Erimonax monachus       Fish                              69.0   242.0  \n",
       "Isotria medeoloides     Vascular Plant                    82.0   274.0  \n",
       "Spiraea virginiana      Vascular Plant                    62.0   278.0  \n",
       "Ursus arctos horribilis Mammal                            73.0   276.0  \n",
       "All                                                      373.0  1344.0  "
      ]
     },
     "execution_count": 241,
     "metadata": {},
     "output_type": "execute_result"
    }
   ],
   "source": [
    "top_spieces(n=5, conservation = conservation_types[1], dataset=df)"
   ]
  },
  {
   "cell_type": "code",
   "execution_count": 242,
   "metadata": {
    "colab": {
     "base_uri": "https://localhost:8080/"
    },
    "id": "U9IyPQ_q5dH9",
    "outputId": "a703d866-7e91-40a5-fa1d-e78d3c48cfa2"
   },
   "outputs": [
    {
     "name": "stdout",
     "output_type": "stream",
     "text": [
      "Endangered\n"
     ]
    }
   ],
   "source": [
    "print(conservation_types[2])"
   ]
  },
  {
   "cell_type": "code",
   "execution_count": 243,
   "metadata": {
    "colab": {
     "base_uri": "https://localhost:8080/",
     "height": 348
    },
    "id": "fU6pu9HL5dOZ",
    "outputId": "68fad1ff-f5c2-4120-cff2-0d9281c1c603"
   },
   "outputs": [
    {
     "data": {
      "text/html": [
       "<div>\n",
       "<style scoped>\n",
       "    .dataframe tbody tr th:only-of-type {\n",
       "        vertical-align: middle;\n",
       "    }\n",
       "\n",
       "    .dataframe tbody tr th {\n",
       "        vertical-align: top;\n",
       "    }\n",
       "\n",
       "    .dataframe thead th {\n",
       "        text-align: right;\n",
       "    }\n",
       "</style>\n",
       "<table border=\"1\" class=\"dataframe\">\n",
       "  <thead>\n",
       "    <tr style=\"text-align: right;\">\n",
       "      <th></th>\n",
       "      <th>park_name</th>\n",
       "      <th>Bryce National Park</th>\n",
       "      <th>Great Smoky Mountains National Park</th>\n",
       "      <th>Yellowstone National Park</th>\n",
       "      <th>Yosemite National Park</th>\n",
       "      <th>All</th>\n",
       "    </tr>\n",
       "    <tr>\n",
       "      <th>scientific_name</th>\n",
       "      <th>category</th>\n",
       "      <th></th>\n",
       "      <th></th>\n",
       "      <th></th>\n",
       "      <th></th>\n",
       "      <th></th>\n",
       "    </tr>\n",
       "  </thead>\n",
       "  <tbody>\n",
       "    <tr>\n",
       "      <th>Canis rufus</th>\n",
       "      <th>Mammal</th>\n",
       "      <td>30.0</td>\n",
       "      <td>13.0</td>\n",
       "      <td>60.0</td>\n",
       "      <td>34.0</td>\n",
       "      <td>137.0</td>\n",
       "    </tr>\n",
       "    <tr>\n",
       "      <th>Grus americana</th>\n",
       "      <th>Bird</th>\n",
       "      <td>24.0</td>\n",
       "      <td>13.0</td>\n",
       "      <td>57.0</td>\n",
       "      <td>37.0</td>\n",
       "      <td>131.0</td>\n",
       "    </tr>\n",
       "    <tr>\n",
       "      <th>Noturus baileyi</th>\n",
       "      <th>Fish</th>\n",
       "      <td>22.0</td>\n",
       "      <td>23.0</td>\n",
       "      <td>67.0</td>\n",
       "      <td>31.0</td>\n",
       "      <td>143.0</td>\n",
       "    </tr>\n",
       "    <tr>\n",
       "      <th>Rana sierrae</th>\n",
       "      <th>Amphibian</th>\n",
       "      <td>31.0</td>\n",
       "      <td>11.0</td>\n",
       "      <td>60.0</td>\n",
       "      <td>42.0</td>\n",
       "      <td>144.0</td>\n",
       "    </tr>\n",
       "    <tr>\n",
       "      <th>Vermivora bachmanii</th>\n",
       "      <th>Bird</th>\n",
       "      <td>20.0</td>\n",
       "      <td>18.0</td>\n",
       "      <td>58.0</td>\n",
       "      <td>45.0</td>\n",
       "      <td>141.0</td>\n",
       "    </tr>\n",
       "    <tr>\n",
       "      <th>All</th>\n",
       "      <th></th>\n",
       "      <td>127.0</td>\n",
       "      <td>78.0</td>\n",
       "      <td>302.0</td>\n",
       "      <td>189.0</td>\n",
       "      <td>696.0</td>\n",
       "    </tr>\n",
       "  </tbody>\n",
       "</table>\n",
       "</div>"
      ],
      "text/plain": [
       "park_name                      Bryce National Park  \\\n",
       "scientific_name     category                         \n",
       "Canis rufus         Mammal                    30.0   \n",
       "Grus americana      Bird                      24.0   \n",
       "Noturus baileyi     Fish                      22.0   \n",
       "Rana sierrae        Amphibian                 31.0   \n",
       "Vermivora bachmanii Bird                      20.0   \n",
       "All                                          127.0   \n",
       "\n",
       "park_name                      Great Smoky Mountains National Park  \\\n",
       "scientific_name     category                                         \n",
       "Canis rufus         Mammal                                    13.0   \n",
       "Grus americana      Bird                                      13.0   \n",
       "Noturus baileyi     Fish                                      23.0   \n",
       "Rana sierrae        Amphibian                                 11.0   \n",
       "Vermivora bachmanii Bird                                      18.0   \n",
       "All                                                           78.0   \n",
       "\n",
       "park_name                      Yellowstone National Park  \\\n",
       "scientific_name     category                               \n",
       "Canis rufus         Mammal                          60.0   \n",
       "Grus americana      Bird                            57.0   \n",
       "Noturus baileyi     Fish                            67.0   \n",
       "Rana sierrae        Amphibian                       60.0   \n",
       "Vermivora bachmanii Bird                            58.0   \n",
       "All                                                302.0   \n",
       "\n",
       "park_name                      Yosemite National Park    All  \n",
       "scientific_name     category                                  \n",
       "Canis rufus         Mammal                       34.0  137.0  \n",
       "Grus americana      Bird                         37.0  131.0  \n",
       "Noturus baileyi     Fish                         31.0  143.0  \n",
       "Rana sierrae        Amphibian                    42.0  144.0  \n",
       "Vermivora bachmanii Bird                         45.0  141.0  \n",
       "All                                             189.0  696.0  "
      ]
     },
     "execution_count": 243,
     "metadata": {},
     "output_type": "execute_result"
    }
   ],
   "source": [
    "top_spieces(n=5, conservation = conservation_types[2], dataset=df)"
   ]
  },
  {
   "cell_type": "code",
   "execution_count": 244,
   "metadata": {
    "colab": {
     "base_uri": "https://localhost:8080/"
    },
    "id": "QsXkRG1s5y1i",
    "outputId": "9d6eb329-079b-442a-93af-f9f31a7388a8"
   },
   "outputs": [
    {
     "name": "stdout",
     "output_type": "stream",
     "text": [
      "['Vascular Plant', 'Nonvascular Plant', 'Bird', 'Amphibian', 'Reptile', 'Mammal', 'Fish']\n"
     ]
    }
   ],
   "source": [
    "category_types = ['Vascular Plant', 'Nonvascular Plant', 'Bird', 'Amphibian', 'Reptile','Mammal', 'Fish']\n",
    "print(category_types)"
   ]
  },
  {
   "cell_type": "code",
   "execution_count": 245,
   "metadata": {
    "colab": {
     "base_uri": "https://localhost:8080/",
     "height": 206
    },
    "id": "w89EGzwL6Grr",
    "outputId": "7304422b-1bc1-41aa-a732-1b13c54145da"
   },
   "outputs": [
    {
     "data": {
      "text/html": [
       "<div>\n",
       "<style scoped>\n",
       "    .dataframe tbody tr th:only-of-type {\n",
       "        vertical-align: middle;\n",
       "    }\n",
       "\n",
       "    .dataframe tbody tr th {\n",
       "        vertical-align: top;\n",
       "    }\n",
       "\n",
       "    .dataframe thead th {\n",
       "        text-align: right;\n",
       "    }\n",
       "</style>\n",
       "<table border=\"1\" class=\"dataframe\">\n",
       "  <thead>\n",
       "    <tr style=\"text-align: right;\">\n",
       "      <th></th>\n",
       "      <th>scientific_name</th>\n",
       "      <th>observations</th>\n",
       "    </tr>\n",
       "  </thead>\n",
       "  <tbody>\n",
       "    <tr>\n",
       "      <th>1766</th>\n",
       "      <td>Geum radiatum</td>\n",
       "      <td>162.0</td>\n",
       "    </tr>\n",
       "    <tr>\n",
       "      <th>2019</th>\n",
       "      <td>Isotria medeoloides</td>\n",
       "      <td>274.0</td>\n",
       "    </tr>\n",
       "    <tr>\n",
       "      <th>3794</th>\n",
       "      <td>Spiraea virginiana</td>\n",
       "      <td>278.0</td>\n",
       "    </tr>\n",
       "    <tr>\n",
       "      <th>2553</th>\n",
       "      <td>Monotropsis odorata</td>\n",
       "      <td>452.0</td>\n",
       "    </tr>\n",
       "    <tr>\n",
       "      <th>602</th>\n",
       "      <td>Cardamine clematitis</td>\n",
       "      <td>453.0</td>\n",
       "    </tr>\n",
       "  </tbody>\n",
       "</table>\n",
       "</div>"
      ],
      "text/plain": [
       "           scientific_name  observations\n",
       "1766         Geum radiatum         162.0\n",
       "2019   Isotria medeoloides         274.0\n",
       "3794    Spiraea virginiana         278.0\n",
       "2553   Monotropsis odorata         452.0\n",
       "602   Cardamine clematitis         453.0"
      ]
     },
     "execution_count": 245,
     "metadata": {},
     "output_type": "execute_result"
    }
   ],
   "source": [
    "def filter_by_category(dataset, category, n):\n",
    " category_data = dataset[dataset.category == category]\n",
    " category_data = category_data.groupby('scientific_name').observations.sum().reset_index()\n",
    " category_data = category_data.sort_values(by='observations')\n",
    " return category_data.head(5)\n",
    "\n",
    "filter_by_category(df, category_types[0],5)"
   ]
  },
  {
   "cell_type": "code",
   "execution_count": 246,
   "metadata": {
    "colab": {
     "base_uri": "https://localhost:8080/",
     "height": 206
    },
    "id": "RC1iyBr968l0",
    "outputId": "1754493c-d5f9-43bd-fe73-3493bac3eebb"
   },
   "outputs": [
    {
     "data": {
      "text/html": [
       "<div>\n",
       "<style scoped>\n",
       "    .dataframe tbody tr th:only-of-type {\n",
       "        vertical-align: middle;\n",
       "    }\n",
       "\n",
       "    .dataframe tbody tr th {\n",
       "        vertical-align: top;\n",
       "    }\n",
       "\n",
       "    .dataframe thead th {\n",
       "        text-align: right;\n",
       "    }\n",
       "</style>\n",
       "<table border=\"1\" class=\"dataframe\">\n",
       "  <thead>\n",
       "    <tr style=\"text-align: right;\">\n",
       "      <th></th>\n",
       "      <th>scientific_name</th>\n",
       "      <th>observations</th>\n",
       "    </tr>\n",
       "  </thead>\n",
       "  <tbody>\n",
       "    <tr>\n",
       "      <th>46</th>\n",
       "      <td>Brachythecium oxycladon</td>\n",
       "      <td>472.0</td>\n",
       "    </tr>\n",
       "    <tr>\n",
       "      <th>276</th>\n",
       "      <td>Racomitrium aciculare</td>\n",
       "      <td>480.0</td>\n",
       "    </tr>\n",
       "    <tr>\n",
       "      <th>320</th>\n",
       "      <td>Tortella humilis</td>\n",
       "      <td>488.0</td>\n",
       "    </tr>\n",
       "    <tr>\n",
       "      <th>302</th>\n",
       "      <td>Sphagnum girgensohnii</td>\n",
       "      <td>490.0</td>\n",
       "    </tr>\n",
       "    <tr>\n",
       "      <th>200</th>\n",
       "      <td>Leskeella nervosa</td>\n",
       "      <td>490.0</td>\n",
       "    </tr>\n",
       "  </tbody>\n",
       "</table>\n",
       "</div>"
      ],
      "text/plain": [
       "             scientific_name  observations\n",
       "46   Brachythecium oxycladon         472.0\n",
       "276    Racomitrium aciculare         480.0\n",
       "320         Tortella humilis         488.0\n",
       "302    Sphagnum girgensohnii         490.0\n",
       "200        Leskeella nervosa         490.0"
      ]
     },
     "execution_count": 246,
     "metadata": {},
     "output_type": "execute_result"
    }
   ],
   "source": [
    "filter_by_category(df, category_types[1],5)"
   ]
  },
  {
   "cell_type": "code",
   "execution_count": 247,
   "metadata": {
    "colab": {
     "base_uri": "https://localhost:8080/",
     "height": 206
    },
    "id": "GS3Egen16-wI",
    "outputId": "02f6efd4-1a54-42da-c6de-b0cc294f2b1a"
   },
   "outputs": [
    {
     "data": {
      "text/html": [
       "<div>\n",
       "<style scoped>\n",
       "    .dataframe tbody tr th:only-of-type {\n",
       "        vertical-align: middle;\n",
       "    }\n",
       "\n",
       "    .dataframe tbody tr th {\n",
       "        vertical-align: top;\n",
       "    }\n",
       "\n",
       "    .dataframe thead th {\n",
       "        text-align: right;\n",
       "    }\n",
       "</style>\n",
       "<table border=\"1\" class=\"dataframe\">\n",
       "  <thead>\n",
       "    <tr style=\"text-align: right;\">\n",
       "      <th></th>\n",
       "      <th>scientific_name</th>\n",
       "      <th>observations</th>\n",
       "    </tr>\n",
       "  </thead>\n",
       "  <tbody>\n",
       "    <tr>\n",
       "      <th>205</th>\n",
       "      <td>Grus americana</td>\n",
       "      <td>131.0</td>\n",
       "    </tr>\n",
       "    <tr>\n",
       "      <th>458</th>\n",
       "      <td>Vermivora bachmanii</td>\n",
       "      <td>141.0</td>\n",
       "    </tr>\n",
       "    <tr>\n",
       "      <th>324</th>\n",
       "      <td>Picoides borealis</td>\n",
       "      <td>146.0</td>\n",
       "    </tr>\n",
       "    <tr>\n",
       "      <th>208</th>\n",
       "      <td>Gymnogyps californianus</td>\n",
       "      <td>156.0</td>\n",
       "    </tr>\n",
       "    <tr>\n",
       "      <th>312</th>\n",
       "      <td>Phalacrocorax auritus</td>\n",
       "      <td>441.0</td>\n",
       "    </tr>\n",
       "  </tbody>\n",
       "</table>\n",
       "</div>"
      ],
      "text/plain": [
       "             scientific_name  observations\n",
       "205           Grus americana         131.0\n",
       "458      Vermivora bachmanii         141.0\n",
       "324        Picoides borealis         146.0\n",
       "208  Gymnogyps californianus         156.0\n",
       "312    Phalacrocorax auritus         441.0"
      ]
     },
     "execution_count": 247,
     "metadata": {},
     "output_type": "execute_result"
    }
   ],
   "source": [
    "filter_by_category(df, category_types[2],5)"
   ]
  },
  {
   "cell_type": "code",
   "execution_count": 248,
   "metadata": {
    "colab": {
     "base_uri": "https://localhost:8080/",
     "height": 206
    },
    "id": "yLYFwQyc7BcM",
    "outputId": "0bd39109-88dd-4651-e647-3a2e9147b179"
   },
   "outputs": [
    {
     "data": {
      "text/html": [
       "<div>\n",
       "<style scoped>\n",
       "    .dataframe tbody tr th:only-of-type {\n",
       "        vertical-align: middle;\n",
       "    }\n",
       "\n",
       "    .dataframe tbody tr th {\n",
       "        vertical-align: top;\n",
       "    }\n",
       "\n",
       "    .dataframe thead th {\n",
       "        text-align: right;\n",
       "    }\n",
       "</style>\n",
       "<table border=\"1\" class=\"dataframe\">\n",
       "  <thead>\n",
       "    <tr style=\"text-align: right;\">\n",
       "      <th></th>\n",
       "      <th>scientific_name</th>\n",
       "      <th>observations</th>\n",
       "    </tr>\n",
       "  </thead>\n",
       "  <tbody>\n",
       "    <tr>\n",
       "      <th>72</th>\n",
       "      <td>Rana sierrae</td>\n",
       "      <td>144.0</td>\n",
       "    </tr>\n",
       "    <tr>\n",
       "      <th>7</th>\n",
       "      <td>Anaxyrus canorus</td>\n",
       "      <td>274.0</td>\n",
       "    </tr>\n",
       "    <tr>\n",
       "      <th>68</th>\n",
       "      <td>Rana draytonii</td>\n",
       "      <td>290.0</td>\n",
       "    </tr>\n",
       "    <tr>\n",
       "      <th>57</th>\n",
       "      <td>Pseudacris regilla</td>\n",
       "      <td>473.0</td>\n",
       "    </tr>\n",
       "    <tr>\n",
       "      <th>14</th>\n",
       "      <td>Cryptobranchus alleganiensis alleganiensis</td>\n",
       "      <td>488.0</td>\n",
       "    </tr>\n",
       "  </tbody>\n",
       "</table>\n",
       "</div>"
      ],
      "text/plain": [
       "                               scientific_name  observations\n",
       "72                                Rana sierrae         144.0\n",
       "7                             Anaxyrus canorus         274.0\n",
       "68                              Rana draytonii         290.0\n",
       "57                          Pseudacris regilla         473.0\n",
       "14  Cryptobranchus alleganiensis alleganiensis         488.0"
      ]
     },
     "execution_count": 248,
     "metadata": {},
     "output_type": "execute_result"
    }
   ],
   "source": [
    "filter_by_category(df, category_types[3],5)"
   ]
  },
  {
   "cell_type": "code",
   "execution_count": 249,
   "metadata": {
    "colab": {
     "base_uri": "https://localhost:8080/",
     "height": 206
    },
    "id": "xJ0FsEY27DRk",
    "outputId": "a1121931-332b-411b-a13a-c8670ac93f95"
   },
   "outputs": [
    {
     "data": {
      "text/html": [
       "<div>\n",
       "<style scoped>\n",
       "    .dataframe tbody tr th:only-of-type {\n",
       "        vertical-align: middle;\n",
       "    }\n",
       "\n",
       "    .dataframe tbody tr th {\n",
       "        vertical-align: top;\n",
       "    }\n",
       "\n",
       "    .dataframe thead th {\n",
       "        text-align: right;\n",
       "    }\n",
       "</style>\n",
       "<table border=\"1\" class=\"dataframe\">\n",
       "  <thead>\n",
       "    <tr style=\"text-align: right;\">\n",
       "      <th></th>\n",
       "      <th>scientific_name</th>\n",
       "      <th>observations</th>\n",
       "    </tr>\n",
       "  </thead>\n",
       "  <tbody>\n",
       "    <tr>\n",
       "      <th>3</th>\n",
       "      <td>Aspidoscelis tigris munda</td>\n",
       "      <td>456.0</td>\n",
       "    </tr>\n",
       "    <tr>\n",
       "      <th>56</th>\n",
       "      <td>Pituophis melanoleucus melanoleucus</td>\n",
       "      <td>470.0</td>\n",
       "    </tr>\n",
       "    <tr>\n",
       "      <th>57</th>\n",
       "      <td>Regina septemvittata</td>\n",
       "      <td>475.0</td>\n",
       "    </tr>\n",
       "    <tr>\n",
       "      <th>61</th>\n",
       "      <td>Sceloporus undulatus hyacinthinus</td>\n",
       "      <td>488.0</td>\n",
       "    </tr>\n",
       "    <tr>\n",
       "      <th>16</th>\n",
       "      <td>Coluber constrictor constrictor</td>\n",
       "      <td>494.0</td>\n",
       "    </tr>\n",
       "  </tbody>\n",
       "</table>\n",
       "</div>"
      ],
      "text/plain": [
       "                        scientific_name  observations\n",
       "3             Aspidoscelis tigris munda         456.0\n",
       "56  Pituophis melanoleucus melanoleucus         470.0\n",
       "57                 Regina septemvittata         475.0\n",
       "61    Sceloporus undulatus hyacinthinus         488.0\n",
       "16      Coluber constrictor constrictor         494.0"
      ]
     },
     "execution_count": 249,
     "metadata": {},
     "output_type": "execute_result"
    }
   ],
   "source": [
    "filter_by_category(df, category_types[4],5)"
   ]
  },
  {
   "cell_type": "code",
   "execution_count": 250,
   "metadata": {
    "colab": {
     "base_uri": "https://localhost:8080/",
     "height": 206
    },
    "id": "qh9bq04V7VS3",
    "outputId": "d84e47ac-1d79-4dea-c957-3f37f4fcf4b5"
   },
   "outputs": [
    {
     "data": {
      "text/html": [
       "<div>\n",
       "<style scoped>\n",
       "    .dataframe tbody tr th:only-of-type {\n",
       "        vertical-align: middle;\n",
       "    }\n",
       "\n",
       "    .dataframe tbody tr th {\n",
       "        vertical-align: top;\n",
       "    }\n",
       "\n",
       "    .dataframe thead th {\n",
       "        text-align: right;\n",
       "    }\n",
       "</style>\n",
       "<table border=\"1\" class=\"dataframe\">\n",
       "  <thead>\n",
       "    <tr style=\"text-align: right;\">\n",
       "      <th></th>\n",
       "      <th>park_name</th>\n",
       "      <th>category</th>\n",
       "      <th>observations</th>\n",
       "    </tr>\n",
       "  </thead>\n",
       "  <tbody>\n",
       "    <tr>\n",
       "      <th>0</th>\n",
       "      <td>Bryce National Park</td>\n",
       "      <td>Amphibian</td>\n",
       "      <td>7299.000000</td>\n",
       "    </tr>\n",
       "    <tr>\n",
       "      <th>1</th>\n",
       "      <td>Bryce National Park</td>\n",
       "      <td>Bird</td>\n",
       "      <td>48388.833333</td>\n",
       "    </tr>\n",
       "    <tr>\n",
       "      <th>2</th>\n",
       "      <td>Bryce National Park</td>\n",
       "      <td>Fish</td>\n",
       "      <td>12223.000000</td>\n",
       "    </tr>\n",
       "    <tr>\n",
       "      <th>3</th>\n",
       "      <td>Bryce National Park</td>\n",
       "      <td>Mammal</td>\n",
       "      <td>16831.333333</td>\n",
       "    </tr>\n",
       "    <tr>\n",
       "      <th>4</th>\n",
       "      <td>Bryce National Park</td>\n",
       "      <td>Nonvascular Plant</td>\n",
       "      <td>32992.000000</td>\n",
       "    </tr>\n",
       "  </tbody>\n",
       "</table>\n",
       "</div>"
      ],
      "text/plain": [
       "             park_name           category  observations\n",
       "0  Bryce National Park          Amphibian   7299.000000\n",
       "1  Bryce National Park               Bird  48388.833333\n",
       "2  Bryce National Park               Fish  12223.000000\n",
       "3  Bryce National Park             Mammal  16831.333333\n",
       "4  Bryce National Park  Nonvascular Plant  32992.000000"
      ]
     },
     "execution_count": 250,
     "metadata": {},
     "output_type": "execute_result"
    }
   ],
   "source": [
    "observations_by_cat = df.groupby(['park_name', 'category']).observations.sum().reset_index()\n",
    "observations_by_cat.head(5)"
   ]
  },
  {
   "cell_type": "code",
   "execution_count": 251,
   "metadata": {
    "colab": {
     "base_uri": "https://localhost:8080/",
     "height": 629
    },
    "id": "u6dQzdEf7-N0",
    "outputId": "b4427bc0-8865-4960-d398-54e067ec9a28"
   },
   "outputs": [
    {
     "data": {
      "image/png": "[encoded data removed]",
      "text/plain": [
       "<Figure size 720x576 with 1 Axes>"
      ]
     },
     "metadata": {},
     "output_type": "display_data"
    }
   ],
   "source": [
    "bar_plot_hue(x='park_name', y='observations', data=observations_by_cat, titl='The number of species by categories', x_label='Parks', y_label='Sum of observations', labels=labels, hue='category')"
   ]
  },
  {
   "cell_type": "code",
   "execution_count": 252,
   "metadata": {
    "colab": {
     "base_uri": "https://localhost:8080/",
     "height": 525
    },
    "id": "BgrJw7l78iTe",
    "outputId": "ffadf6a7-9436-4aa7-9ad9-e6e70e0e3b8b"
   },
   "outputs": [
    {
     "data": {
      "image/png": "[encoded data removed]",
      "text/plain": [
       "<Figure size 720x576 with 1 Axes>"
      ]
     },
     "metadata": {},
     "output_type": "display_data"
    }
   ],
   "source": [
    "park_observations = df.groupby('park_name').observations.sum().reset_index()\n",
    "park_observations = park_observations.sort_values(by='observations')\n",
    "park_observations['observations_in_thousands'] = park_observations['observations']/1000\n",
    "bar_plot(x = 'observations_in_thousands',y = 'park_name', data=park_observations, titl = 'Number of observations in parks', x_label = 'Sum of observations', y_label='Parks', hue=None)"
   ]
  },
  {
   "cell_type": "markdown",
   "metadata": {
    "id": "vprHSHQH8DrC"
   },
   "source": []
  }
 ],
 "metadata": {
  "colab": {
   "collapsed_sections": [],
   "name": "biodiversity.ipynb",
   "provenance": [],
   "toc_visible": true
  },
  "kernelspec": {
   "display_name": "Python 3 (ipykernel)",
   "language": "python",
   "name": "python3"
  },
  "language_info": {
   "codemirror_mode": {
    "name": "ipython",
    "version": 3
   },
   "file_extension": ".py",
   "mimetype": "text/x-python",
   "name": "python",
   "nbconvert_exporter": "python",
   "pygments_lexer": "ipython3",
   "version": "3.9.5"
  }
 },
 "nbformat": 4,
 "nbformat_minor": 1
}
